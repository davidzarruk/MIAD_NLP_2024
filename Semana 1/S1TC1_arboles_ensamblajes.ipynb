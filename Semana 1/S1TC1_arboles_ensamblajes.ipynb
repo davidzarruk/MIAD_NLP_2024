{
  "cells": [
    {
      "cell_type": "markdown",
      "metadata": {
        "id": "sghNowxdQ6Ae"
      },
      "source": [
        "![image info](https://raw.githubusercontent.com/albahnsen/MIAD_ML_and_NLP/main/images/banner_1.png)"
      ]
    },
    {
      "cell_type": "markdown",
      "metadata": {
        "id": "DjBe0I1MQ6Ai"
      },
      "source": [
        "# Taller: Construcción e implementación de árboles de decisión y métodos de ensamblaje\n",
        "\n",
        "En este taller podrá poner en práctica los sus conocimientos sobre construcción e implementación de árboles de decisión y métodos de ensamblajes. El taller está constituido por 9 puntos, 5 relacionados con árboles de decisión (parte A) y 4 con métodos de ensamblaje (parte B)."
      ]
    },
    {
      "cell_type": "markdown",
      "metadata": {
        "id": "IiFlBnruQ6Ak"
      },
      "source": [
        "## Parte A - Árboles de decisión\n",
        "\n",
        "En esta parte del taller se usará el conjunto de datos de Capital Bikeshare de Kaggle, donde cada observación representa el alquiler de bicicletas durante una hora y día determinado. Para más detalles puede visitar los siguientes enlaces: [datos](https://archive.ics.uci.edu/ml/machine-learning-databases/00275/Bike-Sharing-Dataset.zip), [dicccionario de datos](https://archive.ics.uci.edu/ml/datasets/Bike+Sharing+Dataset#)."
      ]
    },
    {
      "cell_type": "markdown",
      "metadata": {
        "id": "48LLQzU7Q6Al"
      },
      "source": [
        "### Datos prestamo de bicicletas"
      ]
    },
    {
      "cell_type": "code",
      "execution_count": 1,
      "metadata": {
        "id": "rX8lbXoZQ6Am"
      },
      "outputs": [],
      "source": [
        "import warnings\n",
        "warnings.filterwarnings('ignore')"
      ]
    },
    {
      "cell_type": "code",
      "execution_count": 2,
      "metadata": {
        "id": "f5CkaMbrQ6Ao"
      },
      "outputs": [],
      "source": [
        "# Importación de librerías\n",
        "%matplotlib inline\n",
        "import pandas as pd\n",
        "import numpy as np\n",
        "from sklearn.model_selection import cross_val_score\n",
        "from sklearn.linear_model import LinearRegression\n",
        "from sklearn.tree import DecisionTreeRegressor, export_graphviz"
      ]
    },
    {
      "cell_type": "code",
      "execution_count": 3,
      "metadata": {
        "colab": {
          "base_uri": "https://localhost:8080/",
          "height": 237
        },
        "id": "HgiTicEtQ6Ap",
        "outputId": "846f749a-98b7-4593-8fb9-d9dd1e6aa7a5"
      },
      "outputs": [
        {
          "output_type": "execute_result",
          "data": {
            "text/plain": [
              "                     season  holiday  workingday  weather  temp   atemp  \\\n",
              "datetime                                                                  \n",
              "2011-01-01 00:00:00       1        0           0        1  9.84  14.395   \n",
              "2011-01-01 01:00:00       1        0           0        1  9.02  13.635   \n",
              "2011-01-01 02:00:00       1        0           0        1  9.02  13.635   \n",
              "2011-01-01 03:00:00       1        0           0        1  9.84  14.395   \n",
              "2011-01-01 04:00:00       1        0           0        1  9.84  14.395   \n",
              "\n",
              "                     humidity  windspeed  casual  registered  total  hour  \n",
              "datetime                                                                   \n",
              "2011-01-01 00:00:00        81        0.0       3          13     16     0  \n",
              "2011-01-01 01:00:00        80        0.0       8          32     40     1  \n",
              "2011-01-01 02:00:00        80        0.0       5          27     32     2  \n",
              "2011-01-01 03:00:00        75        0.0       3          10     13     3  \n",
              "2011-01-01 04:00:00        75        0.0       0           1      1     4  "
            ],
            "text/html": [
              "\n",
              "  <div id=\"df-282406fc-58c3-43fa-b2ef-9a12b27554a5\" class=\"colab-df-container\">\n",
              "    <div>\n",
              "<style scoped>\n",
              "    .dataframe tbody tr th:only-of-type {\n",
              "        vertical-align: middle;\n",
              "    }\n",
              "\n",
              "    .dataframe tbody tr th {\n",
              "        vertical-align: top;\n",
              "    }\n",
              "\n",
              "    .dataframe thead th {\n",
              "        text-align: right;\n",
              "    }\n",
              "</style>\n",
              "<table border=\"1\" class=\"dataframe\">\n",
              "  <thead>\n",
              "    <tr style=\"text-align: right;\">\n",
              "      <th></th>\n",
              "      <th>season</th>\n",
              "      <th>holiday</th>\n",
              "      <th>workingday</th>\n",
              "      <th>weather</th>\n",
              "      <th>temp</th>\n",
              "      <th>atemp</th>\n",
              "      <th>humidity</th>\n",
              "      <th>windspeed</th>\n",
              "      <th>casual</th>\n",
              "      <th>registered</th>\n",
              "      <th>total</th>\n",
              "      <th>hour</th>\n",
              "    </tr>\n",
              "    <tr>\n",
              "      <th>datetime</th>\n",
              "      <th></th>\n",
              "      <th></th>\n",
              "      <th></th>\n",
              "      <th></th>\n",
              "      <th></th>\n",
              "      <th></th>\n",
              "      <th></th>\n",
              "      <th></th>\n",
              "      <th></th>\n",
              "      <th></th>\n",
              "      <th></th>\n",
              "      <th></th>\n",
              "    </tr>\n",
              "  </thead>\n",
              "  <tbody>\n",
              "    <tr>\n",
              "      <th>2011-01-01 00:00:00</th>\n",
              "      <td>1</td>\n",
              "      <td>0</td>\n",
              "      <td>0</td>\n",
              "      <td>1</td>\n",
              "      <td>9.84</td>\n",
              "      <td>14.395</td>\n",
              "      <td>81</td>\n",
              "      <td>0.0</td>\n",
              "      <td>3</td>\n",
              "      <td>13</td>\n",
              "      <td>16</td>\n",
              "      <td>0</td>\n",
              "    </tr>\n",
              "    <tr>\n",
              "      <th>2011-01-01 01:00:00</th>\n",
              "      <td>1</td>\n",
              "      <td>0</td>\n",
              "      <td>0</td>\n",
              "      <td>1</td>\n",
              "      <td>9.02</td>\n",
              "      <td>13.635</td>\n",
              "      <td>80</td>\n",
              "      <td>0.0</td>\n",
              "      <td>8</td>\n",
              "      <td>32</td>\n",
              "      <td>40</td>\n",
              "      <td>1</td>\n",
              "    </tr>\n",
              "    <tr>\n",
              "      <th>2011-01-01 02:00:00</th>\n",
              "      <td>1</td>\n",
              "      <td>0</td>\n",
              "      <td>0</td>\n",
              "      <td>1</td>\n",
              "      <td>9.02</td>\n",
              "      <td>13.635</td>\n",
              "      <td>80</td>\n",
              "      <td>0.0</td>\n",
              "      <td>5</td>\n",
              "      <td>27</td>\n",
              "      <td>32</td>\n",
              "      <td>2</td>\n",
              "    </tr>\n",
              "    <tr>\n",
              "      <th>2011-01-01 03:00:00</th>\n",
              "      <td>1</td>\n",
              "      <td>0</td>\n",
              "      <td>0</td>\n",
              "      <td>1</td>\n",
              "      <td>9.84</td>\n",
              "      <td>14.395</td>\n",
              "      <td>75</td>\n",
              "      <td>0.0</td>\n",
              "      <td>3</td>\n",
              "      <td>10</td>\n",
              "      <td>13</td>\n",
              "      <td>3</td>\n",
              "    </tr>\n",
              "    <tr>\n",
              "      <th>2011-01-01 04:00:00</th>\n",
              "      <td>1</td>\n",
              "      <td>0</td>\n",
              "      <td>0</td>\n",
              "      <td>1</td>\n",
              "      <td>9.84</td>\n",
              "      <td>14.395</td>\n",
              "      <td>75</td>\n",
              "      <td>0.0</td>\n",
              "      <td>0</td>\n",
              "      <td>1</td>\n",
              "      <td>1</td>\n",
              "      <td>4</td>\n",
              "    </tr>\n",
              "  </tbody>\n",
              "</table>\n",
              "</div>\n",
              "    <div class=\"colab-df-buttons\">\n",
              "\n",
              "  <div class=\"colab-df-container\">\n",
              "    <button class=\"colab-df-convert\" onclick=\"convertToInteractive('df-282406fc-58c3-43fa-b2ef-9a12b27554a5')\"\n",
              "            title=\"Convert this dataframe to an interactive table.\"\n",
              "            style=\"display:none;\">\n",
              "\n",
              "  <svg xmlns=\"http://www.w3.org/2000/svg\" height=\"24px\" viewBox=\"0 -960 960 960\">\n",
              "    <path d=\"M120-120v-720h720v720H120Zm60-500h600v-160H180v160Zm220 220h160v-160H400v160Zm0 220h160v-160H400v160ZM180-400h160v-160H180v160Zm440 0h160v-160H620v160ZM180-180h160v-160H180v160Zm440 0h160v-160H620v160Z\"/>\n",
              "  </svg>\n",
              "    </button>\n",
              "\n",
              "  <style>\n",
              "    .colab-df-container {\n",
              "      display:flex;\n",
              "      gap: 12px;\n",
              "    }\n",
              "\n",
              "    .colab-df-convert {\n",
              "      background-color: #E8F0FE;\n",
              "      border: none;\n",
              "      border-radius: 50%;\n",
              "      cursor: pointer;\n",
              "      display: none;\n",
              "      fill: #1967D2;\n",
              "      height: 32px;\n",
              "      padding: 0 0 0 0;\n",
              "      width: 32px;\n",
              "    }\n",
              "\n",
              "    .colab-df-convert:hover {\n",
              "      background-color: #E2EBFA;\n",
              "      box-shadow: 0px 1px 2px rgba(60, 64, 67, 0.3), 0px 1px 3px 1px rgba(60, 64, 67, 0.15);\n",
              "      fill: #174EA6;\n",
              "    }\n",
              "\n",
              "    .colab-df-buttons div {\n",
              "      margin-bottom: 4px;\n",
              "    }\n",
              "\n",
              "    [theme=dark] .colab-df-convert {\n",
              "      background-color: #3B4455;\n",
              "      fill: #D2E3FC;\n",
              "    }\n",
              "\n",
              "    [theme=dark] .colab-df-convert:hover {\n",
              "      background-color: #434B5C;\n",
              "      box-shadow: 0px 1px 3px 1px rgba(0, 0, 0, 0.15);\n",
              "      filter: drop-shadow(0px 1px 2px rgba(0, 0, 0, 0.3));\n",
              "      fill: #FFFFFF;\n",
              "    }\n",
              "  </style>\n",
              "\n",
              "    <script>\n",
              "      const buttonEl =\n",
              "        document.querySelector('#df-282406fc-58c3-43fa-b2ef-9a12b27554a5 button.colab-df-convert');\n",
              "      buttonEl.style.display =\n",
              "        google.colab.kernel.accessAllowed ? 'block' : 'none';\n",
              "\n",
              "      async function convertToInteractive(key) {\n",
              "        const element = document.querySelector('#df-282406fc-58c3-43fa-b2ef-9a12b27554a5');\n",
              "        const dataTable =\n",
              "          await google.colab.kernel.invokeFunction('convertToInteractive',\n",
              "                                                    [key], {});\n",
              "        if (!dataTable) return;\n",
              "\n",
              "        const docLinkHtml = 'Like what you see? Visit the ' +\n",
              "          '<a target=\"_blank\" href=https://colab.research.google.com/notebooks/data_table.ipynb>data table notebook</a>'\n",
              "          + ' to learn more about interactive tables.';\n",
              "        element.innerHTML = '';\n",
              "        dataTable['output_type'] = 'display_data';\n",
              "        await google.colab.output.renderOutput(dataTable, element);\n",
              "        const docLink = document.createElement('div');\n",
              "        docLink.innerHTML = docLinkHtml;\n",
              "        element.appendChild(docLink);\n",
              "      }\n",
              "    </script>\n",
              "  </div>\n",
              "\n",
              "\n",
              "<div id=\"df-da143e36-80f7-4c6e-aabf-bbe536533f1d\">\n",
              "  <button class=\"colab-df-quickchart\" onclick=\"quickchart('df-da143e36-80f7-4c6e-aabf-bbe536533f1d')\"\n",
              "            title=\"Suggest charts\"\n",
              "            style=\"display:none;\">\n",
              "\n",
              "<svg xmlns=\"http://www.w3.org/2000/svg\" height=\"24px\"viewBox=\"0 0 24 24\"\n",
              "     width=\"24px\">\n",
              "    <g>\n",
              "        <path d=\"M19 3H5c-1.1 0-2 .9-2 2v14c0 1.1.9 2 2 2h14c1.1 0 2-.9 2-2V5c0-1.1-.9-2-2-2zM9 17H7v-7h2v7zm4 0h-2V7h2v10zm4 0h-2v-4h2v4z\"/>\n",
              "    </g>\n",
              "</svg>\n",
              "  </button>\n",
              "\n",
              "<style>\n",
              "  .colab-df-quickchart {\n",
              "      --bg-color: #E8F0FE;\n",
              "      --fill-color: #1967D2;\n",
              "      --hover-bg-color: #E2EBFA;\n",
              "      --hover-fill-color: #174EA6;\n",
              "      --disabled-fill-color: #AAA;\n",
              "      --disabled-bg-color: #DDD;\n",
              "  }\n",
              "\n",
              "  [theme=dark] .colab-df-quickchart {\n",
              "      --bg-color: #3B4455;\n",
              "      --fill-color: #D2E3FC;\n",
              "      --hover-bg-color: #434B5C;\n",
              "      --hover-fill-color: #FFFFFF;\n",
              "      --disabled-bg-color: #3B4455;\n",
              "      --disabled-fill-color: #666;\n",
              "  }\n",
              "\n",
              "  .colab-df-quickchart {\n",
              "    background-color: var(--bg-color);\n",
              "    border: none;\n",
              "    border-radius: 50%;\n",
              "    cursor: pointer;\n",
              "    display: none;\n",
              "    fill: var(--fill-color);\n",
              "    height: 32px;\n",
              "    padding: 0;\n",
              "    width: 32px;\n",
              "  }\n",
              "\n",
              "  .colab-df-quickchart:hover {\n",
              "    background-color: var(--hover-bg-color);\n",
              "    box-shadow: 0 1px 2px rgba(60, 64, 67, 0.3), 0 1px 3px 1px rgba(60, 64, 67, 0.15);\n",
              "    fill: var(--button-hover-fill-color);\n",
              "  }\n",
              "\n",
              "  .colab-df-quickchart-complete:disabled,\n",
              "  .colab-df-quickchart-complete:disabled:hover {\n",
              "    background-color: var(--disabled-bg-color);\n",
              "    fill: var(--disabled-fill-color);\n",
              "    box-shadow: none;\n",
              "  }\n",
              "\n",
              "  .colab-df-spinner {\n",
              "    border: 2px solid var(--fill-color);\n",
              "    border-color: transparent;\n",
              "    border-bottom-color: var(--fill-color);\n",
              "    animation:\n",
              "      spin 1s steps(1) infinite;\n",
              "  }\n",
              "\n",
              "  @keyframes spin {\n",
              "    0% {\n",
              "      border-color: transparent;\n",
              "      border-bottom-color: var(--fill-color);\n",
              "      border-left-color: var(--fill-color);\n",
              "    }\n",
              "    20% {\n",
              "      border-color: transparent;\n",
              "      border-left-color: var(--fill-color);\n",
              "      border-top-color: var(--fill-color);\n",
              "    }\n",
              "    30% {\n",
              "      border-color: transparent;\n",
              "      border-left-color: var(--fill-color);\n",
              "      border-top-color: var(--fill-color);\n",
              "      border-right-color: var(--fill-color);\n",
              "    }\n",
              "    40% {\n",
              "      border-color: transparent;\n",
              "      border-right-color: var(--fill-color);\n",
              "      border-top-color: var(--fill-color);\n",
              "    }\n",
              "    60% {\n",
              "      border-color: transparent;\n",
              "      border-right-color: var(--fill-color);\n",
              "    }\n",
              "    80% {\n",
              "      border-color: transparent;\n",
              "      border-right-color: var(--fill-color);\n",
              "      border-bottom-color: var(--fill-color);\n",
              "    }\n",
              "    90% {\n",
              "      border-color: transparent;\n",
              "      border-bottom-color: var(--fill-color);\n",
              "    }\n",
              "  }\n",
              "</style>\n",
              "\n",
              "  <script>\n",
              "    async function quickchart(key) {\n",
              "      const quickchartButtonEl =\n",
              "        document.querySelector('#' + key + ' button');\n",
              "      quickchartButtonEl.disabled = true;  // To prevent multiple clicks.\n",
              "      quickchartButtonEl.classList.add('colab-df-spinner');\n",
              "      try {\n",
              "        const charts = await google.colab.kernel.invokeFunction(\n",
              "            'suggestCharts', [key], {});\n",
              "      } catch (error) {\n",
              "        console.error('Error during call to suggestCharts:', error);\n",
              "      }\n",
              "      quickchartButtonEl.classList.remove('colab-df-spinner');\n",
              "      quickchartButtonEl.classList.add('colab-df-quickchart-complete');\n",
              "    }\n",
              "    (() => {\n",
              "      let quickchartButtonEl =\n",
              "        document.querySelector('#df-da143e36-80f7-4c6e-aabf-bbe536533f1d button');\n",
              "      quickchartButtonEl.style.display =\n",
              "        google.colab.kernel.accessAllowed ? 'block' : 'none';\n",
              "    })();\n",
              "  </script>\n",
              "</div>\n",
              "\n",
              "    </div>\n",
              "  </div>\n"
            ],
            "application/vnd.google.colaboratory.intrinsic+json": {
              "type": "dataframe",
              "variable_name": "bikes",
              "summary": "{\n  \"name\": \"bikes\",\n  \"rows\": 10886,\n  \"fields\": [\n    {\n      \"column\": \"datetime\",\n      \"properties\": {\n        \"dtype\": \"date\",\n        \"min\": \"2011-01-01 00:00:00\",\n        \"max\": \"2012-12-19 23:00:00\",\n        \"num_unique_values\": 10886,\n        \"samples\": [\n          \"2011-07-19 11:00:00\",\n          \"2012-01-16 06:00:00\",\n          \"2011-12-11 18:00:00\"\n        ],\n        \"semantic_type\": \"\",\n        \"description\": \"\"\n      }\n    },\n    {\n      \"column\": \"season\",\n      \"properties\": {\n        \"dtype\": \"number\",\n        \"std\": 1,\n        \"min\": 1,\n        \"max\": 4,\n        \"num_unique_values\": 4,\n        \"samples\": [\n          2,\n          4,\n          1\n        ],\n        \"semantic_type\": \"\",\n        \"description\": \"\"\n      }\n    },\n    {\n      \"column\": \"holiday\",\n      \"properties\": {\n        \"dtype\": \"number\",\n        \"std\": 0,\n        \"min\": 0,\n        \"max\": 1,\n        \"num_unique_values\": 2,\n        \"samples\": [\n          1,\n          0\n        ],\n        \"semantic_type\": \"\",\n        \"description\": \"\"\n      }\n    },\n    {\n      \"column\": \"workingday\",\n      \"properties\": {\n        \"dtype\": \"number\",\n        \"std\": 0,\n        \"min\": 0,\n        \"max\": 1,\n        \"num_unique_values\": 2,\n        \"samples\": [\n          1,\n          0\n        ],\n        \"semantic_type\": \"\",\n        \"description\": \"\"\n      }\n    },\n    {\n      \"column\": \"weather\",\n      \"properties\": {\n        \"dtype\": \"number\",\n        \"std\": 0,\n        \"min\": 1,\n        \"max\": 4,\n        \"num_unique_values\": 4,\n        \"samples\": [\n          2,\n          4\n        ],\n        \"semantic_type\": \"\",\n        \"description\": \"\"\n      }\n    },\n    {\n      \"column\": \"temp\",\n      \"properties\": {\n        \"dtype\": \"number\",\n        \"std\": 7.791589843987567,\n        \"min\": 0.82,\n        \"max\": 41.0,\n        \"num_unique_values\": 49,\n        \"samples\": [\n          6.56,\n          1.64\n        ],\n        \"semantic_type\": \"\",\n        \"description\": \"\"\n      }\n    },\n    {\n      \"column\": \"atemp\",\n      \"properties\": {\n        \"dtype\": \"number\",\n        \"std\": 8.474600626484948,\n        \"min\": 0.76,\n        \"max\": 45.455,\n        \"num_unique_values\": 60,\n        \"samples\": [\n          14.395,\n          16.665\n        ],\n        \"semantic_type\": \"\",\n        \"description\": \"\"\n      }\n    },\n    {\n      \"column\": \"humidity\",\n      \"properties\": {\n        \"dtype\": \"number\",\n        \"std\": 19,\n        \"min\": 0,\n        \"max\": 100,\n        \"num_unique_values\": 89,\n        \"samples\": [\n          29,\n          61\n        ],\n        \"semantic_type\": \"\",\n        \"description\": \"\"\n      }\n    },\n    {\n      \"column\": \"windspeed\",\n      \"properties\": {\n        \"dtype\": \"number\",\n        \"std\": 8.164537326838689,\n        \"min\": 0.0,\n        \"max\": 56.9969,\n        \"num_unique_values\": 28,\n        \"samples\": [\n          22.0028,\n          43.0006\n        ],\n        \"semantic_type\": \"\",\n        \"description\": \"\"\n      }\n    },\n    {\n      \"column\": \"casual\",\n      \"properties\": {\n        \"dtype\": \"number\",\n        \"std\": 49,\n        \"min\": 0,\n        \"max\": 367,\n        \"num_unique_values\": 309,\n        \"samples\": [\n          287,\n          47\n        ],\n        \"semantic_type\": \"\",\n        \"description\": \"\"\n      }\n    },\n    {\n      \"column\": \"registered\",\n      \"properties\": {\n        \"dtype\": \"number\",\n        \"std\": 151,\n        \"min\": 0,\n        \"max\": 886,\n        \"num_unique_values\": 731,\n        \"samples\": [\n          566,\n          9\n        ],\n        \"semantic_type\": \"\",\n        \"description\": \"\"\n      }\n    },\n    {\n      \"column\": \"total\",\n      \"properties\": {\n        \"dtype\": \"number\",\n        \"std\": 181,\n        \"min\": 1,\n        \"max\": 977,\n        \"num_unique_values\": 822,\n        \"samples\": [\n          626,\n          256\n        ],\n        \"semantic_type\": \"\",\n        \"description\": \"\"\n      }\n    },\n    {\n      \"column\": \"hour\",\n      \"properties\": {\n        \"dtype\": \"int32\",\n        \"num_unique_values\": 24,\n        \"samples\": [\n          8,\n          16\n        ],\n        \"semantic_type\": \"\",\n        \"description\": \"\"\n      }\n    }\n  ]\n}"
            }
          },
          "metadata": {},
          "execution_count": 3
        }
      ],
      "source": [
        "# Lectura de la información de archivo .csv\n",
        "bikes = pd.read_csv('https://raw.githubusercontent.com/davidzarruk/MIAD_ML_NLP_2023/main/datasets/bikeshare.csv', index_col='datetime', parse_dates=True)\n",
        "\n",
        "# Renombrar variable \"count\" a \"total\"\n",
        "bikes.rename(columns={'count':'total'}, inplace=True)\n",
        "\n",
        "# Crear la hora como una variable\n",
        "bikes['hour'] = bikes.index.hour\n",
        "\n",
        "# Visualización de los datos\n",
        "bikes.head()"
      ]
    },
    {
      "cell_type": "markdown",
      "metadata": {
        "id": "pc8oeiDaQ6Ap"
      },
      "source": [
        "### Punto 1 - Análisis descriptivo\n",
        "\n",
        "Ejecute las celdas 1.1 y 1.2. A partir de los resultados realice un análisis descriptivo sobre las variables \"season\" y \"hour\", escriba sus inferencias sobre los datos. Para complementar su análisis puede usar métricas como máximo, mínimo, percentiles entre otros."
      ]
    },
    {
      "cell_type": "code",
      "execution_count": 4,
      "metadata": {
        "colab": {
          "base_uri": "https://localhost:8080/"
        },
        "id": "lIuL0OKfQ6Aq",
        "outputId": "f083353e-34ec-4e99-a335-d36523951823"
      },
      "outputs": [
        {
          "output_type": "execute_result",
          "data": {
            "text/plain": [
              "season\n",
              "1    116.343261\n",
              "2    215.251372\n",
              "3    234.417124\n",
              "4    198.988296\n",
              "Name: total, dtype: float64"
            ]
          },
          "metadata": {},
          "execution_count": 4
        }
      ],
      "source": [
        "# Celda 1.1\n",
        "bikes.groupby('season').total.mean()"
      ]
    },
    {
      "cell_type": "code",
      "execution_count": 5,
      "metadata": {
        "scrolled": true,
        "colab": {
          "base_uri": "https://localhost:8080/"
        },
        "id": "ZwvrwYHgQ6Aq",
        "outputId": "8916ad8b-d703-4661-8e34-26468badd319"
      },
      "outputs": [
        {
          "output_type": "execute_result",
          "data": {
            "text/plain": [
              "hour\n",
              "0      55.138462\n",
              "1      33.859031\n",
              "2      22.899554\n",
              "3      11.757506\n",
              "4       6.407240\n",
              "5      19.767699\n",
              "6      76.259341\n",
              "7     213.116484\n",
              "8     362.769231\n",
              "9     221.780220\n",
              "10    175.092308\n",
              "11    210.674725\n",
              "12    256.508772\n",
              "13    257.787281\n",
              "14    243.442982\n",
              "15    254.298246\n",
              "16    316.372807\n",
              "17    468.765351\n",
              "18    430.859649\n",
              "19    315.278509\n",
              "20    228.517544\n",
              "21    173.370614\n",
              "22    133.576754\n",
              "23     89.508772\n",
              "Name: total, dtype: float64"
            ]
          },
          "metadata": {},
          "execution_count": 5
        }
      ],
      "source": [
        "# Celda 1.2\n",
        "bikes.groupby('hour').total.mean()"
      ]
    },
    {
      "cell_type": "markdown",
      "source": [
        "**Análisis de la variable \"season\"**\n",
        "\n",
        "*   Promedio de rentas por temporada:\n",
        "\n",
        "  *   Temporada 1 (probablemente invierno): 116.34\n",
        "\n",
        "  *   Temporada 2 (probablemente primavera): 215.25\n",
        "\n",
        "  *   Temporada 3 (probablemente verano): 234.42\n",
        "\n",
        "  *   Temporada 4 (probablemente otoño): 198.99\n",
        "\n",
        "Inferencias:\n",
        "\n",
        "\n",
        "*   La demanda de bicicletas es más baja en la temporada 1, lo que podría ser el invierno, sugiriendo que el clima frío y las condiciones menos favorables reducen el interés o la necesidad de alquilar bicicletas.\n",
        "\n",
        "*   Las temporadas 2 y 3 muestran un aumento significativo en el promedio de rentas, alcanzando su punto máximo en la temporada 3. Esto puede indicar que el clima más cálido y las condiciones más agradables durante la primavera y el verano aumentan la propensión a alquilar bicicletas.\n",
        "\n",
        "*   La temporada 4, que podría representar el otoño, muestra una disminución en el promedio de rentas comparado con el verano pero sigue siendo más alto que en el invierno, lo que sugiere una transición hacia condiciones menos óptimas para el alquiler de bicicletas.\n",
        "\n",
        "**Análisis de la variable \"hour\"**\n",
        "\n",
        "*   Promedio de rentas por hora del día:\n",
        "\n",
        "  *   La demanda es menor en las horas de la madrugada (0 a 4 horas), con el mínimo alrededor de las 4 de la mañana.\n",
        "\n",
        "  *   Hay un pico significativo durante las horas de la mañana (7 a 9 horas), presumiblemente debido al tráfico de personas yendo a sus lugares de trabajo o estudio.\n",
        "\n",
        "  *   La demanda disminuye después de las horas pico de la mañana y vuelve a aumentar durante la tarde-noche, especialmente de 16 a 18 horas, coincidiendo probablemente con el horario de salida del trabajo o la escuela.\n",
        "\n",
        "  *   La demanda disminuye nuevamente después de las 19 horas, manteniéndose más baja durante el resto de la noche.\n",
        "\n",
        "Inferencias:\n",
        "\n",
        "\n",
        "\n",
        "*   La variación en la demanda a lo largo del día sugiere patrones claros de comportamiento asociados con las rutinas diarias de trabajo y estudio, con picos significativos durante las horas de inicio y fin de la jornada laboral.\n",
        "\n",
        "*   Las horas de menor actividad en la madrugada podrían reflejar no solo la menor necesidad de transporte sino también posibles preocupaciones sobre seguridad o la falta de necesidad de desplazamientos.\n",
        "\n",
        "*   La distribución de la demanda a lo largo del día proporciona información crucial para la gestión de inventarios y la planificación de estrategias de precios dinámicos.\n"
      ],
      "metadata": {
        "id": "tN2ZG7LHR6-Y"
      }
    },
    {
      "cell_type": "markdown",
      "metadata": {
        "id": "ogy7yGxyQ6Ar"
      },
      "source": [
        "### Punto 2 - Análisis de gráficos\n",
        "\n",
        "Primero ejecute la celda 2.1 y asegúrese de comprender el código y el resultado. Luego, en cada una de celdas 2.2 y 2.3 escriba un código que genere una gráfica del número de bicicletas rentadas promedio para cada valor de la variable \"hour\" (hora) cuando la variable \"season\" es igual a 1 (invierno) e igual a 3 (verano), respectivamente. Analice y escriba sus hallazgos."
      ]
    },
    {
      "cell_type": "code",
      "execution_count": 6,
      "metadata": {
        "colab": {
          "base_uri": "https://localhost:8080/",
          "height": 467
        },
        "id": "kERw-zTBQ6As",
        "outputId": "f27e3572-dd7f-428c-bb42-84ef7a4f2c4c"
      },
      "outputs": [
        {
          "output_type": "execute_result",
          "data": {
            "text/plain": [
              "<Axes: xlabel='hour'>"
            ]
          },
          "metadata": {},
          "execution_count": 6
        },
        {
          "output_type": "display_data",
          "data": {
            "text/plain": [
              "<Figure size 640x480 with 1 Axes>"
            ],
            "image/png": "[encoded data removed]"
          },
          "metadata": {}
        }
      ],
      "source": [
        "# Celda 2.1 - rentas promedio para cada valor de la variable \"hour\"\n",
        "bikes.groupby('hour').total.mean().plot()"
      ]
    },
    {
      "cell_type": "code",
      "execution_count": 7,
      "metadata": {
        "colab": {
          "base_uri": "https://localhost:8080/",
          "height": 467
        },
        "id": "iZyv98IWQ6At",
        "outputId": "9b75b182-bc26-4a40-95ab-1a87a5e87af1"
      },
      "outputs": [
        {
          "output_type": "execute_result",
          "data": {
            "text/plain": [
              "<Axes: xlabel='hour'>"
            ]
          },
          "metadata": {},
          "execution_count": 7
        },
        {
          "output_type": "display_data",
          "data": {
            "text/plain": [
              "<Figure size 640x480 with 1 Axes>"
            ],
            "image/png": "[encoded data removed]"
          },
          "metadata": {}
        }
      ],
      "source": [
        "# Celda 2.2 - \"season\"=1 escriba su código y hallazgos\n",
        "bikes[bikes['season'] == 1].groupby('hour').total.mean().plot()"
      ]
    },
    {
      "cell_type": "code",
      "execution_count": 8,
      "metadata": {
        "colab": {
          "base_uri": "https://localhost:8080/",
          "height": 467
        },
        "id": "AfMlGkjcQ6Au",
        "outputId": "20ffceeb-4846-4290-cac5-17d46ba7fd17"
      },
      "outputs": [
        {
          "output_type": "execute_result",
          "data": {
            "text/plain": [
              "<Axes: xlabel='hour'>"
            ]
          },
          "metadata": {},
          "execution_count": 8
        },
        {
          "output_type": "display_data",
          "data": {
            "text/plain": [
              "<Figure size 640x480 with 1 Axes>"
            ],
            "image/png": "[encoded data removed]"
          },
          "metadata": {}
        }
      ],
      "source": [
        "# Celda 2.3 - \"season\"=3 escriba su código y hallazgos\n",
        "bikes[bikes['season'] == 3].groupby('hour').total.mean().plot()"
      ]
    },
    {
      "cell_type": "markdown",
      "source": [
        "**Invierno (Temporada 1):**\n",
        "\n",
        "\n",
        "\n",
        "*   El gráfico presumiblemente del invierno muestra una cantidad menor de rentas de bicicletas en comparación con el gráfico general que observamos anteriormente.\n",
        "\n",
        "*   Los picos durante las horas de la mañana y de la tarde son menos pronunciados, lo que podría indicar que las condiciones climáticas más frías disuaden a las personas de usar las bicicletas para desplazarse.\n",
        "\n",
        "**Verano (Temporada 3):**\n",
        "\n",
        "\n",
        "\n",
        "*   En contraste, el gráfico que asumimos es del verano muestra un aumento en el número de rentas de bicicletas, especialmente notable en las horas pico de la tarde.\n",
        "\n",
        "*   Esto sugiere que el clima más cálido y las horas de luz diurna más largas pueden ser factores que incentivan a las personas a utilizar más las bicicletas.\n",
        "\n",
        "**Hallazgos y Análisis:**\n",
        "\n",
        "\n",
        "\n",
        "*   La similitud en los patrones diarios entre invierno y verano sugiere que, independientemente de la temporada, las bicicletas se utilizan principalmente para los desplazamientos relacionados con el trabajo o la escuela, evidenciado por los picos en las horas de la mañana y de la tarde.\n",
        "\n",
        "*   La diferencia en la magnitud de las rentas entre estas estaciones apoya la idea de que el clima y las condiciones ambientales juegan un papel crucial en la frecuencia de uso de las bicicletas compartidas.\n",
        "\n",
        "*   Estos datos podrían ser útiles para las compañías de bicicletas compartidas para ajustar la disponibilidad de sus flotas y desarrollar promociones estacionales o incentivos que animen a la gente a usar bicicletas incluso en condiciones meteorológicas menos ideales.\n"
      ],
      "metadata": {
        "id": "xxbz3XCBVNep"
      }
    },
    {
      "cell_type": "markdown",
      "metadata": {
        "id": "Bi_2o2crQ6Av"
      },
      "source": [
        "### Punto 3 - Regresión lineal\n",
        "En la celda 3 ajuste un modelo de regresión lineal a todo el conjunto de datos, utilizando \"total\" como variable de respuesta y \"season\" y \"hour\" como las únicas variables predictoras, teniendo en cuenta que la variable \"season\" es categórica. Luego, imprima los coeficientes e interprételos. ¿Cuáles son las limitaciones de la regresión lineal en este caso?"
      ]
    },
    {
      "cell_type": "code",
      "execution_count": 9,
      "metadata": {
        "colab": {
          "base_uri": "https://localhost:8080/"
        },
        "id": "xgXW_cM_Q6Av",
        "outputId": "2865553b-229e-405c-e25f-07ef08a553c4"
      },
      "outputs": [
        {
          "output_type": "stream",
          "name": "stdout",
          "text": [
            "Intercepto: 83021742133808.92\n",
            "Coeficientes: [-8.30217421e+13 -8.30217421e+13 -8.30217421e+13 -8.30217421e+13\n",
            "  1.05546875e+01]\n"
          ]
        }
      ],
      "source": [
        "# Celda 3\n",
        "from sklearn.linear_model import LinearRegression\n",
        "\n",
        "# Convertir 'season' en variables dummy porque es categórica\n",
        "season_dummies = pd.get_dummies(bikes['season'], prefix='season')\n",
        "\n",
        "# Preparar el DataFrame para el modelo de regresión\n",
        "X = pd.concat([season_dummies, bikes['hour']], axis=1)\n",
        "y = bikes['total']\n",
        "\n",
        "# Ajustar el modelo de regresión lineal\n",
        "lr = LinearRegression()\n",
        "lr.fit(X, y)\n",
        "\n",
        "# Imprimir los coeficientes\n",
        "print('Intercepto:', lr.intercept_)\n",
        "print('Coeficientes:', lr.coef_)"
      ]
    },
    {
      "cell_type": "markdown",
      "source": [
        "**Interpretación:**\n",
        "\n",
        "*   Intercepto (83021742133808.92): Este valor es extremadamente grande y no tiene sentido en el contexto de la predicción de la cantidad de bicicletas rentadas. Un intercepto tan grande podría ser indicativo de un problema de codificación o de una mala especificación en el modelo.\n",
        "*   Coeficientes (-8.30217421e+13): Estos coeficientes son negativos y también extremadamente grandes en magnitud, lo que indica un problema similar. Cada coeficiente aquí representa el cambio esperado en la variable de respuesta \"total\" para un cambio unitario en la variable predictora correspondiente. Sin embargo, en este caso, los valores son tan grandes que claramente son incorrectos.\n",
        "*   Coeficiente para \"hour\" (10.5546875): Este parece ser el único coeficiente razonable y sugiere que, en promedio, cada hora adicional se asocia con un aumento de aproximadamente 10.55 en el número de bicicletas rentadas.\n",
        "\n",
        "**Limitaciones de la regresión lineal en este caso:**\n",
        "\n",
        "*   La regresión lineal asume una relación lineal entre las variables predictoras y la variable de respuesta. En la vida real, el número de bicicletas rentadas podría no seguir una relación estrictamente lineal con la hora del día o la temporada.\n",
        "*   Los efectos de otras variables no incluidas en el modelo (como el clima, la temperatura, la humedad, los días festivos, etc.) no se están considerando, lo cual puede resultar en un modelo sesgado o con especificación errónea.\n",
        "*   La regresión lineal puede no capturar bien las interacciones entre las variables, como cómo el efecto de la hora del día en las rentas de bicicletas puede variar según la temporada.\n",
        "*   La variable \"season\" es categórica y su conversión a variables dummy implica que la relación entre cada temporada y las rentas es independiente de las otras temporadas, lo cual puede no ser una suposición correcta si hay una tendencia a lo largo de las estaciones.\n",
        "*   Al ser una variable de conteo, \"total\" puede tener una distribución de Poisson o ser sobre-dispersa, situaciones en las cuales otros modelos como regresión de Poisson o regresión binomial negativa podrían ser más apropiados.\n",
        "*   Multicolinealidad: Es posible que las variables dummy creadas para \"season\" estén incluyendo una columna redundante (una columna para cada categoría), lo que puede llevar a la multicolinealidad perfecta. Generalmente, se debe excluir una de las columnas de variables dummy para evitar este problema (la categoría de referencia).\n",
        "*   Escala de los datos: Si los predictores están en diferentes escalas, puede ser beneficioso normalizar o estandarizar los datos, aunque esto no debería causar el problema de magnitud que vemos en los coeficientes.\n",
        "*   Errores de cálculo: Si la matriz de diseño tiene un número extremadamente grande o pequeño, puede causar problemas numéricos en el cálculo de los coeficientes.\n",
        "*   Mala especificación del modelo: Es posible que el modelo esté mal especificado y que se necesiten transformaciones de las variables predictoras o de la respuesta para adecuarse mejor a la regresión lineal."
      ],
      "metadata": {
        "id": "abzJH_YoWR2c"
      }
    },
    {
      "cell_type": "markdown",
      "metadata": {
        "id": "IWgFt4jwQ6Aw"
      },
      "source": [
        "### Punto 4 - Árbol de decisión manual\n",
        "En la celda 4 cree un árbol de decisiones para pronosticar la variable \"total\" iterando **manualmente** sobre las variables \"hour\" y  \"season\". El árbol debe tener al menos 6 nodos finales."
      ]
    },
    {
      "cell_type": "code",
      "source": [
        "bikes = pd.read_csv('https://raw.githubusercontent.com/davidzarruk/MIAD_ML_NLP_2023/main/datasets/bikeshare.csv', index_col='datetime', parse_dates=True)"
      ],
      "metadata": {
        "id": "IXbm1Yr0aAFA"
      },
      "execution_count": 10,
      "outputs": []
    },
    {
      "cell_type": "code",
      "source": [
        "bikes.head()"
      ],
      "metadata": {
        "colab": {
          "base_uri": "https://localhost:8080/",
          "height": 237
        },
        "id": "UovZ19zVZ1Pw",
        "outputId": "3eae1ee4-e32f-403a-d7c3-905ed162ced5"
      },
      "execution_count": 11,
      "outputs": [
        {
          "output_type": "execute_result",
          "data": {
            "text/plain": [
              "                     season  holiday  workingday  weather  temp   atemp  \\\n",
              "datetime                                                                  \n",
              "2011-01-01 00:00:00       1        0           0        1  9.84  14.395   \n",
              "2011-01-01 01:00:00       1        0           0        1  9.02  13.635   \n",
              "2011-01-01 02:00:00       1        0           0        1  9.02  13.635   \n",
              "2011-01-01 03:00:00       1        0           0        1  9.84  14.395   \n",
              "2011-01-01 04:00:00       1        0           0        1  9.84  14.395   \n",
              "\n",
              "                     humidity  windspeed  casual  registered  count  \n",
              "datetime                                                             \n",
              "2011-01-01 00:00:00        81        0.0       3          13     16  \n",
              "2011-01-01 01:00:00        80        0.0       8          32     40  \n",
              "2011-01-01 02:00:00        80        0.0       5          27     32  \n",
              "2011-01-01 03:00:00        75        0.0       3          10     13  \n",
              "2011-01-01 04:00:00        75        0.0       0           1      1  "
            ],
            "text/html": [
              "\n",
              "  <div id=\"df-d1f76cb8-fe3b-43b4-b7db-e7c5a305a714\" class=\"colab-df-container\">\n",
              "    <div>\n",
              "<style scoped>\n",
              "    .dataframe tbody tr th:only-of-type {\n",
              "        vertical-align: middle;\n",
              "    }\n",
              "\n",
              "    .dataframe tbody tr th {\n",
              "        vertical-align: top;\n",
              "    }\n",
              "\n",
              "    .dataframe thead th {\n",
              "        text-align: right;\n",
              "    }\n",
              "</style>\n",
              "<table border=\"1\" class=\"dataframe\">\n",
              "  <thead>\n",
              "    <tr style=\"text-align: right;\">\n",
              "      <th></th>\n",
              "      <th>season</th>\n",
              "      <th>holiday</th>\n",
              "      <th>workingday</th>\n",
              "      <th>weather</th>\n",
              "      <th>temp</th>\n",
              "      <th>atemp</th>\n",
              "      <th>humidity</th>\n",
              "      <th>windspeed</th>\n",
              "      <th>casual</th>\n",
              "      <th>registered</th>\n",
              "      <th>count</th>\n",
              "    </tr>\n",
              "    <tr>\n",
              "      <th>datetime</th>\n",
              "      <th></th>\n",
              "      <th></th>\n",
              "      <th></th>\n",
              "      <th></th>\n",
              "      <th></th>\n",
              "      <th></th>\n",
              "      <th></th>\n",
              "      <th></th>\n",
              "      <th></th>\n",
              "      <th></th>\n",
              "      <th></th>\n",
              "    </tr>\n",
              "  </thead>\n",
              "  <tbody>\n",
              "    <tr>\n",
              "      <th>2011-01-01 00:00:00</th>\n",
              "      <td>1</td>\n",
              "      <td>0</td>\n",
              "      <td>0</td>\n",
              "      <td>1</td>\n",
              "      <td>9.84</td>\n",
              "      <td>14.395</td>\n",
              "      <td>81</td>\n",
              "      <td>0.0</td>\n",
              "      <td>3</td>\n",
              "      <td>13</td>\n",
              "      <td>16</td>\n",
              "    </tr>\n",
              "    <tr>\n",
              "      <th>2011-01-01 01:00:00</th>\n",
              "      <td>1</td>\n",
              "      <td>0</td>\n",
              "      <td>0</td>\n",
              "      <td>1</td>\n",
              "      <td>9.02</td>\n",
              "      <td>13.635</td>\n",
              "      <td>80</td>\n",
              "      <td>0.0</td>\n",
              "      <td>8</td>\n",
              "      <td>32</td>\n",
              "      <td>40</td>\n",
              "    </tr>\n",
              "    <tr>\n",
              "      <th>2011-01-01 02:00:00</th>\n",
              "      <td>1</td>\n",
              "      <td>0</td>\n",
              "      <td>0</td>\n",
              "      <td>1</td>\n",
              "      <td>9.02</td>\n",
              "      <td>13.635</td>\n",
              "      <td>80</td>\n",
              "      <td>0.0</td>\n",
              "      <td>5</td>\n",
              "      <td>27</td>\n",
              "      <td>32</td>\n",
              "    </tr>\n",
              "    <tr>\n",
              "      <th>2011-01-01 03:00:00</th>\n",
              "      <td>1</td>\n",
              "      <td>0</td>\n",
              "      <td>0</td>\n",
              "      <td>1</td>\n",
              "      <td>9.84</td>\n",
              "      <td>14.395</td>\n",
              "      <td>75</td>\n",
              "      <td>0.0</td>\n",
              "      <td>3</td>\n",
              "      <td>10</td>\n",
              "      <td>13</td>\n",
              "    </tr>\n",
              "    <tr>\n",
              "      <th>2011-01-01 04:00:00</th>\n",
              "      <td>1</td>\n",
              "      <td>0</td>\n",
              "      <td>0</td>\n",
              "      <td>1</td>\n",
              "      <td>9.84</td>\n",
              "      <td>14.395</td>\n",
              "      <td>75</td>\n",
              "      <td>0.0</td>\n",
              "      <td>0</td>\n",
              "      <td>1</td>\n",
              "      <td>1</td>\n",
              "    </tr>\n",
              "  </tbody>\n",
              "</table>\n",
              "</div>\n",
              "    <div class=\"colab-df-buttons\">\n",
              "\n",
              "  <div class=\"colab-df-container\">\n",
              "    <button class=\"colab-df-convert\" onclick=\"convertToInteractive('df-d1f76cb8-fe3b-43b4-b7db-e7c5a305a714')\"\n",
              "            title=\"Convert this dataframe to an interactive table.\"\n",
              "            style=\"display:none;\">\n",
              "\n",
              "  <svg xmlns=\"http://www.w3.org/2000/svg\" height=\"24px\" viewBox=\"0 -960 960 960\">\n",
              "    <path d=\"M120-120v-720h720v720H120Zm60-500h600v-160H180v160Zm220 220h160v-160H400v160Zm0 220h160v-160H400v160ZM180-400h160v-160H180v160Zm440 0h160v-160H620v160ZM180-180h160v-160H180v160Zm440 0h160v-160H620v160Z\"/>\n",
              "  </svg>\n",
              "    </button>\n",
              "\n",
              "  <style>\n",
              "    .colab-df-container {\n",
              "      display:flex;\n",
              "      gap: 12px;\n",
              "    }\n",
              "\n",
              "    .colab-df-convert {\n",
              "      background-color: #E8F0FE;\n",
              "      border: none;\n",
              "      border-radius: 50%;\n",
              "      cursor: pointer;\n",
              "      display: none;\n",
              "      fill: #1967D2;\n",
              "      height: 32px;\n",
              "      padding: 0 0 0 0;\n",
              "      width: 32px;\n",
              "    }\n",
              "\n",
              "    .colab-df-convert:hover {\n",
              "      background-color: #E2EBFA;\n",
              "      box-shadow: 0px 1px 2px rgba(60, 64, 67, 0.3), 0px 1px 3px 1px rgba(60, 64, 67, 0.15);\n",
              "      fill: #174EA6;\n",
              "    }\n",
              "\n",
              "    .colab-df-buttons div {\n",
              "      margin-bottom: 4px;\n",
              "    }\n",
              "\n",
              "    [theme=dark] .colab-df-convert {\n",
              "      background-color: #3B4455;\n",
              "      fill: #D2E3FC;\n",
              "    }\n",
              "\n",
              "    [theme=dark] .colab-df-convert:hover {\n",
              "      background-color: #434B5C;\n",
              "      box-shadow: 0px 1px 3px 1px rgba(0, 0, 0, 0.15);\n",
              "      filter: drop-shadow(0px 1px 2px rgba(0, 0, 0, 0.3));\n",
              "      fill: #FFFFFF;\n",
              "    }\n",
              "  </style>\n",
              "\n",
              "    <script>\n",
              "      const buttonEl =\n",
              "        document.querySelector('#df-d1f76cb8-fe3b-43b4-b7db-e7c5a305a714 button.colab-df-convert');\n",
              "      buttonEl.style.display =\n",
              "        google.colab.kernel.accessAllowed ? 'block' : 'none';\n",
              "\n",
              "      async function convertToInteractive(key) {\n",
              "        const element = document.querySelector('#df-d1f76cb8-fe3b-43b4-b7db-e7c5a305a714');\n",
              "        const dataTable =\n",
              "          await google.colab.kernel.invokeFunction('convertToInteractive',\n",
              "                                                    [key], {});\n",
              "        if (!dataTable) return;\n",
              "\n",
              "        const docLinkHtml = 'Like what you see? Visit the ' +\n",
              "          '<a target=\"_blank\" href=https://colab.research.google.com/notebooks/data_table.ipynb>data table notebook</a>'\n",
              "          + ' to learn more about interactive tables.';\n",
              "        element.innerHTML = '';\n",
              "        dataTable['output_type'] = 'display_data';\n",
              "        await google.colab.output.renderOutput(dataTable, element);\n",
              "        const docLink = document.createElement('div');\n",
              "        docLink.innerHTML = docLinkHtml;\n",
              "        element.appendChild(docLink);\n",
              "      }\n",
              "    </script>\n",
              "  </div>\n",
              "\n",
              "\n",
              "<div id=\"df-a8e5e070-0f77-414a-aa5e-71b9caed662a\">\n",
              "  <button class=\"colab-df-quickchart\" onclick=\"quickchart('df-a8e5e070-0f77-414a-aa5e-71b9caed662a')\"\n",
              "            title=\"Suggest charts\"\n",
              "            style=\"display:none;\">\n",
              "\n",
              "<svg xmlns=\"http://www.w3.org/2000/svg\" height=\"24px\"viewBox=\"0 0 24 24\"\n",
              "     width=\"24px\">\n",
              "    <g>\n",
              "        <path d=\"M19 3H5c-1.1 0-2 .9-2 2v14c0 1.1.9 2 2 2h14c1.1 0 2-.9 2-2V5c0-1.1-.9-2-2-2zM9 17H7v-7h2v7zm4 0h-2V7h2v10zm4 0h-2v-4h2v4z\"/>\n",
              "    </g>\n",
              "</svg>\n",
              "  </button>\n",
              "\n",
              "<style>\n",
              "  .colab-df-quickchart {\n",
              "      --bg-color: #E8F0FE;\n",
              "      --fill-color: #1967D2;\n",
              "      --hover-bg-color: #E2EBFA;\n",
              "      --hover-fill-color: #174EA6;\n",
              "      --disabled-fill-color: #AAA;\n",
              "      --disabled-bg-color: #DDD;\n",
              "  }\n",
              "\n",
              "  [theme=dark] .colab-df-quickchart {\n",
              "      --bg-color: #3B4455;\n",
              "      --fill-color: #D2E3FC;\n",
              "      --hover-bg-color: #434B5C;\n",
              "      --hover-fill-color: #FFFFFF;\n",
              "      --disabled-bg-color: #3B4455;\n",
              "      --disabled-fill-color: #666;\n",
              "  }\n",
              "\n",
              "  .colab-df-quickchart {\n",
              "    background-color: var(--bg-color);\n",
              "    border: none;\n",
              "    border-radius: 50%;\n",
              "    cursor: pointer;\n",
              "    display: none;\n",
              "    fill: var(--fill-color);\n",
              "    height: 32px;\n",
              "    padding: 0;\n",
              "    width: 32px;\n",
              "  }\n",
              "\n",
              "  .colab-df-quickchart:hover {\n",
              "    background-color: var(--hover-bg-color);\n",
              "    box-shadow: 0 1px 2px rgba(60, 64, 67, 0.3), 0 1px 3px 1px rgba(60, 64, 67, 0.15);\n",
              "    fill: var(--button-hover-fill-color);\n",
              "  }\n",
              "\n",
              "  .colab-df-quickchart-complete:disabled,\n",
              "  .colab-df-quickchart-complete:disabled:hover {\n",
              "    background-color: var(--disabled-bg-color);\n",
              "    fill: var(--disabled-fill-color);\n",
              "    box-shadow: none;\n",
              "  }\n",
              "\n",
              "  .colab-df-spinner {\n",
              "    border: 2px solid var(--fill-color);\n",
              "    border-color: transparent;\n",
              "    border-bottom-color: var(--fill-color);\n",
              "    animation:\n",
              "      spin 1s steps(1) infinite;\n",
              "  }\n",
              "\n",
              "  @keyframes spin {\n",
              "    0% {\n",
              "      border-color: transparent;\n",
              "      border-bottom-color: var(--fill-color);\n",
              "      border-left-color: var(--fill-color);\n",
              "    }\n",
              "    20% {\n",
              "      border-color: transparent;\n",
              "      border-left-color: var(--fill-color);\n",
              "      border-top-color: var(--fill-color);\n",
              "    }\n",
              "    30% {\n",
              "      border-color: transparent;\n",
              "      border-left-color: var(--fill-color);\n",
              "      border-top-color: var(--fill-color);\n",
              "      border-right-color: var(--fill-color);\n",
              "    }\n",
              "    40% {\n",
              "      border-color: transparent;\n",
              "      border-right-color: var(--fill-color);\n",
              "      border-top-color: var(--fill-color);\n",
              "    }\n",
              "    60% {\n",
              "      border-color: transparent;\n",
              "      border-right-color: var(--fill-color);\n",
              "    }\n",
              "    80% {\n",
              "      border-color: transparent;\n",
              "      border-right-color: var(--fill-color);\n",
              "      border-bottom-color: var(--fill-color);\n",
              "    }\n",
              "    90% {\n",
              "      border-color: transparent;\n",
              "      border-bottom-color: var(--fill-color);\n",
              "    }\n",
              "  }\n",
              "</style>\n",
              "\n",
              "  <script>\n",
              "    async function quickchart(key) {\n",
              "      const quickchartButtonEl =\n",
              "        document.querySelector('#' + key + ' button');\n",
              "      quickchartButtonEl.disabled = true;  // To prevent multiple clicks.\n",
              "      quickchartButtonEl.classList.add('colab-df-spinner');\n",
              "      try {\n",
              "        const charts = await google.colab.kernel.invokeFunction(\n",
              "            'suggestCharts', [key], {});\n",
              "      } catch (error) {\n",
              "        console.error('Error during call to suggestCharts:', error);\n",
              "      }\n",
              "      quickchartButtonEl.classList.remove('colab-df-spinner');\n",
              "      quickchartButtonEl.classList.add('colab-df-quickchart-complete');\n",
              "    }\n",
              "    (() => {\n",
              "      let quickchartButtonEl =\n",
              "        document.querySelector('#df-a8e5e070-0f77-414a-aa5e-71b9caed662a button');\n",
              "      quickchartButtonEl.style.display =\n",
              "        google.colab.kernel.accessAllowed ? 'block' : 'none';\n",
              "    })();\n",
              "  </script>\n",
              "</div>\n",
              "\n",
              "    </div>\n",
              "  </div>\n"
            ],
            "application/vnd.google.colaboratory.intrinsic+json": {
              "type": "dataframe",
              "variable_name": "bikes",
              "summary": "{\n  \"name\": \"bikes\",\n  \"rows\": 10886,\n  \"fields\": [\n    {\n      \"column\": \"datetime\",\n      \"properties\": {\n        \"dtype\": \"date\",\n        \"min\": \"2011-01-01 00:00:00\",\n        \"max\": \"2012-12-19 23:00:00\",\n        \"num_unique_values\": 10886,\n        \"samples\": [\n          \"2011-07-19 11:00:00\",\n          \"2012-01-16 06:00:00\",\n          \"2011-12-11 18:00:00\"\n        ],\n        \"semantic_type\": \"\",\n        \"description\": \"\"\n      }\n    },\n    {\n      \"column\": \"season\",\n      \"properties\": {\n        \"dtype\": \"number\",\n        \"std\": 1,\n        \"min\": 1,\n        \"max\": 4,\n        \"num_unique_values\": 4,\n        \"samples\": [\n          2,\n          4,\n          1\n        ],\n        \"semantic_type\": \"\",\n        \"description\": \"\"\n      }\n    },\n    {\n      \"column\": \"holiday\",\n      \"properties\": {\n        \"dtype\": \"number\",\n        \"std\": 0,\n        \"min\": 0,\n        \"max\": 1,\n        \"num_unique_values\": 2,\n        \"samples\": [\n          1,\n          0\n        ],\n        \"semantic_type\": \"\",\n        \"description\": \"\"\n      }\n    },\n    {\n      \"column\": \"workingday\",\n      \"properties\": {\n        \"dtype\": \"number\",\n        \"std\": 0,\n        \"min\": 0,\n        \"max\": 1,\n        \"num_unique_values\": 2,\n        \"samples\": [\n          1,\n          0\n        ],\n        \"semantic_type\": \"\",\n        \"description\": \"\"\n      }\n    },\n    {\n      \"column\": \"weather\",\n      \"properties\": {\n        \"dtype\": \"number\",\n        \"std\": 0,\n        \"min\": 1,\n        \"max\": 4,\n        \"num_unique_values\": 4,\n        \"samples\": [\n          2,\n          4\n        ],\n        \"semantic_type\": \"\",\n        \"description\": \"\"\n      }\n    },\n    {\n      \"column\": \"temp\",\n      \"properties\": {\n        \"dtype\": \"number\",\n        \"std\": 7.791589843987567,\n        \"min\": 0.82,\n        \"max\": 41.0,\n        \"num_unique_values\": 49,\n        \"samples\": [\n          6.56,\n          1.64\n        ],\n        \"semantic_type\": \"\",\n        \"description\": \"\"\n      }\n    },\n    {\n      \"column\": \"atemp\",\n      \"properties\": {\n        \"dtype\": \"number\",\n        \"std\": 8.474600626484948,\n        \"min\": 0.76,\n        \"max\": 45.455,\n        \"num_unique_values\": 60,\n        \"samples\": [\n          14.395,\n          16.665\n        ],\n        \"semantic_type\": \"\",\n        \"description\": \"\"\n      }\n    },\n    {\n      \"column\": \"humidity\",\n      \"properties\": {\n        \"dtype\": \"number\",\n        \"std\": 19,\n        \"min\": 0,\n        \"max\": 100,\n        \"num_unique_values\": 89,\n        \"samples\": [\n          29,\n          61\n        ],\n        \"semantic_type\": \"\",\n        \"description\": \"\"\n      }\n    },\n    {\n      \"column\": \"windspeed\",\n      \"properties\": {\n        \"dtype\": \"number\",\n        \"std\": 8.164537326838689,\n        \"min\": 0.0,\n        \"max\": 56.9969,\n        \"num_unique_values\": 28,\n        \"samples\": [\n          22.0028,\n          43.0006\n        ],\n        \"semantic_type\": \"\",\n        \"description\": \"\"\n      }\n    },\n    {\n      \"column\": \"casual\",\n      \"properties\": {\n        \"dtype\": \"number\",\n        \"std\": 49,\n        \"min\": 0,\n        \"max\": 367,\n        \"num_unique_values\": 309,\n        \"samples\": [\n          287,\n          47\n        ],\n        \"semantic_type\": \"\",\n        \"description\": \"\"\n      }\n    },\n    {\n      \"column\": \"registered\",\n      \"properties\": {\n        \"dtype\": \"number\",\n        \"std\": 151,\n        \"min\": 0,\n        \"max\": 886,\n        \"num_unique_values\": 731,\n        \"samples\": [\n          566,\n          9\n        ],\n        \"semantic_type\": \"\",\n        \"description\": \"\"\n      }\n    },\n    {\n      \"column\": \"count\",\n      \"properties\": {\n        \"dtype\": \"number\",\n        \"std\": 181,\n        \"min\": 1,\n        \"max\": 977,\n        \"num_unique_values\": 822,\n        \"samples\": [\n          626,\n          256\n        ],\n        \"semantic_type\": \"\",\n        \"description\": \"\"\n      }\n    }\n  ]\n}"
            }
          },
          "metadata": {},
          "execution_count": 11
        }
      ]
    },
    {
      "cell_type": "code",
      "source": [
        "import pandas as pd\n",
        "import numpy as np\n",
        "\n",
        "# Cargando y preparando el conjunto de datos\n",
        "bikes = pd.read_csv('https://raw.githubusercontent.com/davidzarruk/MIAD_ML_NLP_2023/main/datasets/bikeshare.csv', index_col='datetime', parse_dates=True)\n",
        "bikes.rename(columns={'count':'total'}, inplace=True)\n",
        "bikes['hour'] = bikes.index.hour\n",
        "median_total = bikes['total'].median()\n",
        "bikes['high_demand'] = (bikes['total'] > median_total).astype(int)\n"
      ],
      "metadata": {
        "id": "ODDPOmAgJ6Xy"
      },
      "execution_count": 23,
      "outputs": []
    },
    {
      "cell_type": "code",
      "source": [
        "def calculate_gini_impurity(y):\n",
        "    if len(y) == 0:\n",
        "        return 0\n",
        "    else:\n",
        "        proportion = np.sum(y) / len(y)\n",
        "        return 1 - proportion ** 2 - (1 - proportion) ** 2\n",
        "\n",
        "def best_split(X, y):\n",
        "    best_gini = 1.0\n",
        "    best_feature = None\n",
        "    best_value = None\n",
        "    for feature in X.columns:\n",
        "        values = np.sort(X[feature].unique())\n",
        "        for value in values:\n",
        "            left_mask = X[feature] <= value\n",
        "            right_mask = ~left_mask\n",
        "            gini_left = calculate_gini_impurity(y[left_mask])\n",
        "            gini_right = calculate_gini_impurity(y[right_mask])\n",
        "            gini = (len(y[left_mask]) * gini_left + len(y[right_mask]) * gini_right) / len(y)\n",
        "            if gini < best_gini:\n",
        "                best_gini = gini\n",
        "                best_feature = feature\n",
        "                best_value = value\n",
        "    return best_feature, best_value, best_gini\n",
        "\n",
        "def build_tree(X, y, depth=0, max_depth=3):\n",
        "    if depth == max_depth or len(X) == 0:\n",
        "        return np.mean(y)\n",
        "    best_feature, best_value, _ = best_split(X, y)\n",
        "    if best_feature is None:\n",
        "        return np.mean(y)\n",
        "    left_mask = X[best_feature] <= best_value\n",
        "    right_mask = ~left_mask\n",
        "    left_branch = build_tree(X[left_mask], y[left_mask], depth+1, max_depth)\n",
        "    right_branch = build_tree(X[right_mask], y[right_mask], depth+1, max_depth)\n",
        "    return {\"feature\": best_feature, \"value\": best_value, \"branches\": [left_branch, right_branch]}\n"
      ],
      "metadata": {
        "id": "Db2RI9wRMmZI"
      },
      "execution_count": 24,
      "outputs": []
    },
    {
      "cell_type": "code",
      "source": [
        "# Convertimos las variables 'season' y 'hour' en dummies para simplificar el ejemplo\n",
        "X = pd.get_dummies(bikes[['hour', 'season']], drop_first=True)\n",
        "y = bikes['high_demand']\n",
        "\n",
        "# Construimos el árbol\n",
        "tree = build_tree(X, y, max_depth=3)\n"
      ],
      "metadata": {
        "id": "8K7yncMAMpeo"
      },
      "execution_count": 25,
      "outputs": []
    },
    {
      "cell_type": "code",
      "source": [
        "def print_tree(node, depth=0, prefix=\"\"):\n",
        "    if isinstance(node, dict):  # Si el nodo es un diccionario, tiene más ramas por explorar\n",
        "        feature, value, branches = node[\"feature\"], node[\"value\"], node[\"branches\"]\n",
        "        print(f\"{prefix}{'|   ' * depth}{feature} <= {value}\")\n",
        "        print_tree(branches[0], depth + 1, prefix=\"L-- \")\n",
        "        print_tree(branches[1], depth + 1, prefix=\"R-- \")\n",
        "    else:  # Si el nodo no es un diccionario, es una hoja\n",
        "        print(f\"{prefix}{'|   ' * depth}Predict {node:.2f}\")\n",
        "\n",
        "# Imprimir el árbol\n",
        "print_tree(tree)\n"
      ],
      "metadata": {
        "colab": {
          "base_uri": "https://localhost:8080/"
        },
        "id": "6Yhb-uZpMxJU",
        "outputId": "c02a2241-7054-4788-db3f-842d28ef9f52"
      },
      "execution_count": 27,
      "outputs": [
        {
          "output_type": "stream",
          "name": "stdout",
          "text": [
            "hour <= 6\n",
            "L-- |   hour <= 5\n",
            "L-- |   |   hour <= 0\n",
            "L-- |   |   |   Predict 0.05\n",
            "R-- |   |   |   Predict 0.00\n",
            "R-- |   |   season <= 2\n",
            "L-- |   |   |   Predict 0.05\n",
            "R-- |   |   |   Predict 0.18\n",
            "R-- |   season <= 1\n",
            "L-- |   |   hour <= 20\n",
            "L-- |   |   |   Predict 0.46\n",
            "R-- |   |   |   Predict 0.10\n",
            "R-- |   |   hour <= 21\n",
            "L-- |   |   |   Predict 0.84\n",
            "R-- |   |   |   Predict 0.37\n"
          ]
        }
      ]
    },
    {
      "cell_type": "markdown",
      "metadata": {
        "id": "AQtTXGeJQ6Ax"
      },
      "source": [
        "### Punto 5 - Árbol de decisión con librería\n",
        "En la celda 5 entrene un árbol de decisiones con la **librería sklearn**, usando las variables predictoras \"season\" y \"hour\" y calibre los parámetros que considere conveniente para obtener un mejor desempeño. Recuerde dividir los datos en conjuntos de entrenamiento y validación para esto. Comente el desempeño del modelo con alguna métrica de desempeño de modelos de regresión y compare desempeño con el modelo del punto 3."
      ]
    },
    {
      "cell_type": "code",
      "execution_count": 28,
      "metadata": {
        "id": "SBlmHp5RQ6Ax",
        "colab": {
          "base_uri": "https://localhost:8080/"
        },
        "outputId": "d6eb73cd-fefc-4804-9c43-940785e42daa"
      },
      "outputs": [
        {
          "output_type": "stream",
          "name": "stdout",
          "text": [
            "Mejores parámetros: {'max_depth': None, 'min_samples_leaf': 1, 'min_samples_split': 2}\n"
          ]
        }
      ],
      "source": [
        "from sklearn.model_selection import train_test_split, GridSearchCV\n",
        "from sklearn.tree import DecisionTreeRegressor\n",
        "from sklearn.metrics import mean_squared_error\n",
        "import numpy as np\n",
        "\n",
        "# Preparación de las variables predictoras y la variable objetivo\n",
        "X = bikes[['hour', 'season']].copy()\n",
        "X = pd.get_dummies(X, columns=['hour', 'season'], drop_first=True)\n",
        "y = bikes['total']\n",
        "\n",
        "# División de los datos en conjuntos de entrenamiento y prueba\n",
        "X_train, X_test, y_train, y_test = train_test_split(X, y, test_size=0.2, random_state=42)\n",
        "\n",
        "# Definición del modelo\n",
        "tree_reg = DecisionTreeRegressor(random_state=42)\n",
        "\n",
        "# Definición del espacio de parámetros para la calibración\n",
        "param_grid = {\n",
        "    'max_depth': [5, 10, 15, None],\n",
        "    'min_samples_split': [2, 10, 20],\n",
        "    'min_samples_leaf': [1, 5, 10]\n",
        "}\n",
        "\n",
        "# Búsqueda por validación cruzada\n",
        "grid_search = GridSearchCV(tree_reg, param_grid, cv=5, scoring='neg_mean_squared_error', return_train_score=True)\n",
        "grid_search.fit(X_train, y_train)\n",
        "\n",
        "# Mejores parámetros encontrados\n",
        "print(\"Mejores parámetros:\", grid_search.best_params_)\n",
        "\n",
        "# Entrenar el modelo con los mejores parámetros\n",
        "best_tree = grid_search.best_estimator_\n"
      ]
    },
    {
      "cell_type": "code",
      "source": [
        "# Predicción en el conjunto de prueba\n",
        "y_pred = best_tree.predict(X_test)\n",
        "\n",
        "# Cálculo de la métrica de desempeño\n",
        "mse = mean_squared_error(y_test, y_pred)\n",
        "print(\"MSE del modelo de árbol de decisión calibrado:\", mse)\n",
        "\n",
        "# Raíz del error cuadrático medio\n",
        "rmse = np.sqrt(mse)\n",
        "print(\"RMSE del modelo de árbol de decisión calibrado:\", rmse)\n"
      ],
      "metadata": {
        "colab": {
          "base_uri": "https://localhost:8080/"
        },
        "id": "R5mWaAXqOUQc",
        "outputId": "cefea143-d4ee-40d1-88ca-14cc9fab661d"
      },
      "execution_count": 29,
      "outputs": [
        {
          "output_type": "stream",
          "name": "stdout",
          "text": [
            "MSE del modelo de árbol de decisión calibrado: 13454.101382166964\n",
            "RMSE del modelo de árbol de decisión calibrado: 115.99181601374713\n"
          ]
        }
      ]
    },
    {
      "cell_type": "markdown",
      "source": [
        "**Interpretación de los Resultados**\n",
        "*   MSE: Esta métrica nos dice, en promedio, cuánto se desvían al cuadrado las predicciones del modelo de los valores reales. Un MSE de 13454.1 puede parecer alto, pero la interpretación depende en gran medida de la escala de la variable objetivo (total de bicicletas alquiladas) y de la variabilidad inherente a los datos.\n",
        "\n",
        "*   RMSE: Al tomar la raíz cuadrada del MSE, el RMSE nos proporciona una medida de error que está en las mismas unidades que la variable objetivo. Un RMSE de aproximadamente 116.0 significa que, en promedio, las predicciones del modelo se desvían unos 116 alquileres de bicicletas del valor real. Esto ofrece una interpretación más intuitiva que el MSE."
      ],
      "metadata": {
        "id": "1UHvHLUxOd0g"
      }
    },
    {
      "cell_type": "markdown",
      "metadata": {
        "id": "U7o66-WhQ6Ay"
      },
      "source": [
        "## Parte B - Métodos de ensamblajes\n",
        "En esta parte del taller se usará el conjunto de datos de Popularidad de Noticias Online. El objetivo es predecir si la notica es popular o no, la popularidad está dada por la cantidad de reacciones en redes sociales. Para más detalles puede visitar el siguiente enlace: [datos](https://archive.ics.uci.edu/ml/datasets/online+news+popularity)."
      ]
    },
    {
      "cell_type": "markdown",
      "metadata": {
        "id": "z9EL3G6wQ6Ay"
      },
      "source": [
        "### Datos popularidad de noticias"
      ]
    },
    {
      "cell_type": "code",
      "execution_count": 30,
      "metadata": {
        "id": "vbE1TL-TQ6Ay",
        "colab": {
          "base_uri": "https://localhost:8080/",
          "height": 342
        },
        "outputId": "4461bdfa-258c-46b2-f8dd-403e2e0a614d"
      },
      "outputs": [
        {
          "output_type": "execute_result",
          "data": {
            "text/plain": [
              "                                                 url  timedelta  \\\n",
              "0  http://mashable.com/2014/12/10/cia-torture-rep...       28.0   \n",
              "1  http://mashable.com/2013/10/18/bitlock-kicksta...      447.0   \n",
              "2  http://mashable.com/2013/07/24/google-glass-po...      533.0   \n",
              "3  http://mashable.com/2013/11/21/these-are-the-m...      413.0   \n",
              "4  http://mashable.com/2014/02/11/parking-ticket-...      331.0   \n",
              "\n",
              "   n_tokens_title  n_tokens_content  n_unique_tokens  n_non_stop_words  \\\n",
              "0             9.0             188.0         0.732620               1.0   \n",
              "1             7.0             297.0         0.653199               1.0   \n",
              "2            11.0             181.0         0.660377               1.0   \n",
              "3            12.0             781.0         0.497409               1.0   \n",
              "4             8.0             177.0         0.685714               1.0   \n",
              "\n",
              "   n_non_stop_unique_tokens  num_hrefs  num_self_hrefs  num_imgs  ...  \\\n",
              "0                  0.844262        5.0             1.0       1.0  ...   \n",
              "1                  0.815789        9.0             4.0       1.0  ...   \n",
              "2                  0.775701        4.0             3.0       1.0  ...   \n",
              "3                  0.677350       10.0             3.0       1.0  ...   \n",
              "4                  0.830357        3.0             2.0       1.0  ...   \n",
              "\n",
              "   min_positive_polarity  max_positive_polarity  avg_negative_polarity  \\\n",
              "0               0.200000                   0.80              -0.487500   \n",
              "1               0.160000                   0.50              -0.135340   \n",
              "2               0.136364                   1.00               0.000000   \n",
              "3               0.100000                   1.00              -0.195701   \n",
              "4               0.100000                   0.55              -0.175000   \n",
              "\n",
              "   min_negative_polarity  max_negative_polarity  title_subjectivity  \\\n",
              "0                  -0.60              -0.250000                 0.9   \n",
              "1                  -0.40              -0.050000                 0.1   \n",
              "2                   0.00               0.000000                 0.3   \n",
              "3                  -0.40              -0.071429                 0.0   \n",
              "4                  -0.25              -0.100000                 0.0   \n",
              "\n",
              "   title_sentiment_polarity  abs_title_subjectivity  \\\n",
              "0                       0.8                     0.4   \n",
              "1                      -0.1                     0.4   \n",
              "2                       1.0                     0.2   \n",
              "3                       0.0                     0.5   \n",
              "4                       0.0                     0.5   \n",
              "\n",
              "   abs_title_sentiment_polarity  Popular  \n",
              "0                           0.8        1  \n",
              "1                           0.1        0  \n",
              "2                           1.0        0  \n",
              "3                           0.0        0  \n",
              "4                           0.0        0  \n",
              "\n",
              "[5 rows x 61 columns]"
            ],
            "text/html": [
              "\n",
              "  <div id=\"df-38408b23-7c64-4993-a4eb-a0f301d4b429\" class=\"colab-df-container\">\n",
              "    <div>\n",
              "<style scoped>\n",
              "    .dataframe tbody tr th:only-of-type {\n",
              "        vertical-align: middle;\n",
              "    }\n",
              "\n",
              "    .dataframe tbody tr th {\n",
              "        vertical-align: top;\n",
              "    }\n",
              "\n",
              "    .dataframe thead th {\n",
              "        text-align: right;\n",
              "    }\n",
              "</style>\n",
              "<table border=\"1\" class=\"dataframe\">\n",
              "  <thead>\n",
              "    <tr style=\"text-align: right;\">\n",
              "      <th></th>\n",
              "      <th>url</th>\n",
              "      <th>timedelta</th>\n",
              "      <th>n_tokens_title</th>\n",
              "      <th>n_tokens_content</th>\n",
              "      <th>n_unique_tokens</th>\n",
              "      <th>n_non_stop_words</th>\n",
              "      <th>n_non_stop_unique_tokens</th>\n",
              "      <th>num_hrefs</th>\n",
              "      <th>num_self_hrefs</th>\n",
              "      <th>num_imgs</th>\n",
              "      <th>...</th>\n",
              "      <th>min_positive_polarity</th>\n",
              "      <th>max_positive_polarity</th>\n",
              "      <th>avg_negative_polarity</th>\n",
              "      <th>min_negative_polarity</th>\n",
              "      <th>max_negative_polarity</th>\n",
              "      <th>title_subjectivity</th>\n",
              "      <th>title_sentiment_polarity</th>\n",
              "      <th>abs_title_subjectivity</th>\n",
              "      <th>abs_title_sentiment_polarity</th>\n",
              "      <th>Popular</th>\n",
              "    </tr>\n",
              "  </thead>\n",
              "  <tbody>\n",
              "    <tr>\n",
              "      <th>0</th>\n",
              "      <td>http://mashable.com/2014/12/10/cia-torture-rep...</td>\n",
              "      <td>28.0</td>\n",
              "      <td>9.0</td>\n",
              "      <td>188.0</td>\n",
              "      <td>0.732620</td>\n",
              "      <td>1.0</td>\n",
              "      <td>0.844262</td>\n",
              "      <td>5.0</td>\n",
              "      <td>1.0</td>\n",
              "      <td>1.0</td>\n",
              "      <td>...</td>\n",
              "      <td>0.200000</td>\n",
              "      <td>0.80</td>\n",
              "      <td>-0.487500</td>\n",
              "      <td>-0.60</td>\n",
              "      <td>-0.250000</td>\n",
              "      <td>0.9</td>\n",
              "      <td>0.8</td>\n",
              "      <td>0.4</td>\n",
              "      <td>0.8</td>\n",
              "      <td>1</td>\n",
              "    </tr>\n",
              "    <tr>\n",
              "      <th>1</th>\n",
              "      <td>http://mashable.com/2013/10/18/bitlock-kicksta...</td>\n",
              "      <td>447.0</td>\n",
              "      <td>7.0</td>\n",
              "      <td>297.0</td>\n",
              "      <td>0.653199</td>\n",
              "      <td>1.0</td>\n",
              "      <td>0.815789</td>\n",
              "      <td>9.0</td>\n",
              "      <td>4.0</td>\n",
              "      <td>1.0</td>\n",
              "      <td>...</td>\n",
              "      <td>0.160000</td>\n",
              "      <td>0.50</td>\n",
              "      <td>-0.135340</td>\n",
              "      <td>-0.40</td>\n",
              "      <td>-0.050000</td>\n",
              "      <td>0.1</td>\n",
              "      <td>-0.1</td>\n",
              "      <td>0.4</td>\n",
              "      <td>0.1</td>\n",
              "      <td>0</td>\n",
              "    </tr>\n",
              "    <tr>\n",
              "      <th>2</th>\n",
              "      <td>http://mashable.com/2013/07/24/google-glass-po...</td>\n",
              "      <td>533.0</td>\n",
              "      <td>11.0</td>\n",
              "      <td>181.0</td>\n",
              "      <td>0.660377</td>\n",
              "      <td>1.0</td>\n",
              "      <td>0.775701</td>\n",
              "      <td>4.0</td>\n",
              "      <td>3.0</td>\n",
              "      <td>1.0</td>\n",
              "      <td>...</td>\n",
              "      <td>0.136364</td>\n",
              "      <td>1.00</td>\n",
              "      <td>0.000000</td>\n",
              "      <td>0.00</td>\n",
              "      <td>0.000000</td>\n",
              "      <td>0.3</td>\n",
              "      <td>1.0</td>\n",
              "      <td>0.2</td>\n",
              "      <td>1.0</td>\n",
              "      <td>0</td>\n",
              "    </tr>\n",
              "    <tr>\n",
              "      <th>3</th>\n",
              "      <td>http://mashable.com/2013/11/21/these-are-the-m...</td>\n",
              "      <td>413.0</td>\n",
              "      <td>12.0</td>\n",
              "      <td>781.0</td>\n",
              "      <td>0.497409</td>\n",
              "      <td>1.0</td>\n",
              "      <td>0.677350</td>\n",
              "      <td>10.0</td>\n",
              "      <td>3.0</td>\n",
              "      <td>1.0</td>\n",
              "      <td>...</td>\n",
              "      <td>0.100000</td>\n",
              "      <td>1.00</td>\n",
              "      <td>-0.195701</td>\n",
              "      <td>-0.40</td>\n",
              "      <td>-0.071429</td>\n",
              "      <td>0.0</td>\n",
              "      <td>0.0</td>\n",
              "      <td>0.5</td>\n",
              "      <td>0.0</td>\n",
              "      <td>0</td>\n",
              "    </tr>\n",
              "    <tr>\n",
              "      <th>4</th>\n",
              "      <td>http://mashable.com/2014/02/11/parking-ticket-...</td>\n",
              "      <td>331.0</td>\n",
              "      <td>8.0</td>\n",
              "      <td>177.0</td>\n",
              "      <td>0.685714</td>\n",
              "      <td>1.0</td>\n",
              "      <td>0.830357</td>\n",
              "      <td>3.0</td>\n",
              "      <td>2.0</td>\n",
              "      <td>1.0</td>\n",
              "      <td>...</td>\n",
              "      <td>0.100000</td>\n",
              "      <td>0.55</td>\n",
              "      <td>-0.175000</td>\n",
              "      <td>-0.25</td>\n",
              "      <td>-0.100000</td>\n",
              "      <td>0.0</td>\n",
              "      <td>0.0</td>\n",
              "      <td>0.5</td>\n",
              "      <td>0.0</td>\n",
              "      <td>0</td>\n",
              "    </tr>\n",
              "  </tbody>\n",
              "</table>\n",
              "<p>5 rows × 61 columns</p>\n",
              "</div>\n",
              "    <div class=\"colab-df-buttons\">\n",
              "\n",
              "  <div class=\"colab-df-container\">\n",
              "    <button class=\"colab-df-convert\" onclick=\"convertToInteractive('df-38408b23-7c64-4993-a4eb-a0f301d4b429')\"\n",
              "            title=\"Convert this dataframe to an interactive table.\"\n",
              "            style=\"display:none;\">\n",
              "\n",
              "  <svg xmlns=\"http://www.w3.org/2000/svg\" height=\"24px\" viewBox=\"0 -960 960 960\">\n",
              "    <path d=\"M120-120v-720h720v720H120Zm60-500h600v-160H180v160Zm220 220h160v-160H400v160Zm0 220h160v-160H400v160ZM180-400h160v-160H180v160Zm440 0h160v-160H620v160ZM180-180h160v-160H180v160Zm440 0h160v-160H620v160Z\"/>\n",
              "  </svg>\n",
              "    </button>\n",
              "\n",
              "  <style>\n",
              "    .colab-df-container {\n",
              "      display:flex;\n",
              "      gap: 12px;\n",
              "    }\n",
              "\n",
              "    .colab-df-convert {\n",
              "      background-color: #E8F0FE;\n",
              "      border: none;\n",
              "      border-radius: 50%;\n",
              "      cursor: pointer;\n",
              "      display: none;\n",
              "      fill: #1967D2;\n",
              "      height: 32px;\n",
              "      padding: 0 0 0 0;\n",
              "      width: 32px;\n",
              "    }\n",
              "\n",
              "    .colab-df-convert:hover {\n",
              "      background-color: #E2EBFA;\n",
              "      box-shadow: 0px 1px 2px rgba(60, 64, 67, 0.3), 0px 1px 3px 1px rgba(60, 64, 67, 0.15);\n",
              "      fill: #174EA6;\n",
              "    }\n",
              "\n",
              "    .colab-df-buttons div {\n",
              "      margin-bottom: 4px;\n",
              "    }\n",
              "\n",
              "    [theme=dark] .colab-df-convert {\n",
              "      background-color: #3B4455;\n",
              "      fill: #D2E3FC;\n",
              "    }\n",
              "\n",
              "    [theme=dark] .colab-df-convert:hover {\n",
              "      background-color: #434B5C;\n",
              "      box-shadow: 0px 1px 3px 1px rgba(0, 0, 0, 0.15);\n",
              "      filter: drop-shadow(0px 1px 2px rgba(0, 0, 0, 0.3));\n",
              "      fill: #FFFFFF;\n",
              "    }\n",
              "  </style>\n",
              "\n",
              "    <script>\n",
              "      const buttonEl =\n",
              "        document.querySelector('#df-38408b23-7c64-4993-a4eb-a0f301d4b429 button.colab-df-convert');\n",
              "      buttonEl.style.display =\n",
              "        google.colab.kernel.accessAllowed ? 'block' : 'none';\n",
              "\n",
              "      async function convertToInteractive(key) {\n",
              "        const element = document.querySelector('#df-38408b23-7c64-4993-a4eb-a0f301d4b429');\n",
              "        const dataTable =\n",
              "          await google.colab.kernel.invokeFunction('convertToInteractive',\n",
              "                                                    [key], {});\n",
              "        if (!dataTable) return;\n",
              "\n",
              "        const docLinkHtml = 'Like what you see? Visit the ' +\n",
              "          '<a target=\"_blank\" href=https://colab.research.google.com/notebooks/data_table.ipynb>data table notebook</a>'\n",
              "          + ' to learn more about interactive tables.';\n",
              "        element.innerHTML = '';\n",
              "        dataTable['output_type'] = 'display_data';\n",
              "        await google.colab.output.renderOutput(dataTable, element);\n",
              "        const docLink = document.createElement('div');\n",
              "        docLink.innerHTML = docLinkHtml;\n",
              "        element.appendChild(docLink);\n",
              "      }\n",
              "    </script>\n",
              "  </div>\n",
              "\n",
              "\n",
              "<div id=\"df-0ba48ae9-13a8-4ded-b57a-a70b9a7df9a0\">\n",
              "  <button class=\"colab-df-quickchart\" onclick=\"quickchart('df-0ba48ae9-13a8-4ded-b57a-a70b9a7df9a0')\"\n",
              "            title=\"Suggest charts\"\n",
              "            style=\"display:none;\">\n",
              "\n",
              "<svg xmlns=\"http://www.w3.org/2000/svg\" height=\"24px\"viewBox=\"0 0 24 24\"\n",
              "     width=\"24px\">\n",
              "    <g>\n",
              "        <path d=\"M19 3H5c-1.1 0-2 .9-2 2v14c0 1.1.9 2 2 2h14c1.1 0 2-.9 2-2V5c0-1.1-.9-2-2-2zM9 17H7v-7h2v7zm4 0h-2V7h2v10zm4 0h-2v-4h2v4z\"/>\n",
              "    </g>\n",
              "</svg>\n",
              "  </button>\n",
              "\n",
              "<style>\n",
              "  .colab-df-quickchart {\n",
              "      --bg-color: #E8F0FE;\n",
              "      --fill-color: #1967D2;\n",
              "      --hover-bg-color: #E2EBFA;\n",
              "      --hover-fill-color: #174EA6;\n",
              "      --disabled-fill-color: #AAA;\n",
              "      --disabled-bg-color: #DDD;\n",
              "  }\n",
              "\n",
              "  [theme=dark] .colab-df-quickchart {\n",
              "      --bg-color: #3B4455;\n",
              "      --fill-color: #D2E3FC;\n",
              "      --hover-bg-color: #434B5C;\n",
              "      --hover-fill-color: #FFFFFF;\n",
              "      --disabled-bg-color: #3B4455;\n",
              "      --disabled-fill-color: #666;\n",
              "  }\n",
              "\n",
              "  .colab-df-quickchart {\n",
              "    background-color: var(--bg-color);\n",
              "    border: none;\n",
              "    border-radius: 50%;\n",
              "    cursor: pointer;\n",
              "    display: none;\n",
              "    fill: var(--fill-color);\n",
              "    height: 32px;\n",
              "    padding: 0;\n",
              "    width: 32px;\n",
              "  }\n",
              "\n",
              "  .colab-df-quickchart:hover {\n",
              "    background-color: var(--hover-bg-color);\n",
              "    box-shadow: 0 1px 2px rgba(60, 64, 67, 0.3), 0 1px 3px 1px rgba(60, 64, 67, 0.15);\n",
              "    fill: var(--button-hover-fill-color);\n",
              "  }\n",
              "\n",
              "  .colab-df-quickchart-complete:disabled,\n",
              "  .colab-df-quickchart-complete:disabled:hover {\n",
              "    background-color: var(--disabled-bg-color);\n",
              "    fill: var(--disabled-fill-color);\n",
              "    box-shadow: none;\n",
              "  }\n",
              "\n",
              "  .colab-df-spinner {\n",
              "    border: 2px solid var(--fill-color);\n",
              "    border-color: transparent;\n",
              "    border-bottom-color: var(--fill-color);\n",
              "    animation:\n",
              "      spin 1s steps(1) infinite;\n",
              "  }\n",
              "\n",
              "  @keyframes spin {\n",
              "    0% {\n",
              "      border-color: transparent;\n",
              "      border-bottom-color: var(--fill-color);\n",
              "      border-left-color: var(--fill-color);\n",
              "    }\n",
              "    20% {\n",
              "      border-color: transparent;\n",
              "      border-left-color: var(--fill-color);\n",
              "      border-top-color: var(--fill-color);\n",
              "    }\n",
              "    30% {\n",
              "      border-color: transparent;\n",
              "      border-left-color: var(--fill-color);\n",
              "      border-top-color: var(--fill-color);\n",
              "      border-right-color: var(--fill-color);\n",
              "    }\n",
              "    40% {\n",
              "      border-color: transparent;\n",
              "      border-right-color: var(--fill-color);\n",
              "      border-top-color: var(--fill-color);\n",
              "    }\n",
              "    60% {\n",
              "      border-color: transparent;\n",
              "      border-right-color: var(--fill-color);\n",
              "    }\n",
              "    80% {\n",
              "      border-color: transparent;\n",
              "      border-right-color: var(--fill-color);\n",
              "      border-bottom-color: var(--fill-color);\n",
              "    }\n",
              "    90% {\n",
              "      border-color: transparent;\n",
              "      border-bottom-color: var(--fill-color);\n",
              "    }\n",
              "  }\n",
              "</style>\n",
              "\n",
              "  <script>\n",
              "    async function quickchart(key) {\n",
              "      const quickchartButtonEl =\n",
              "        document.querySelector('#' + key + ' button');\n",
              "      quickchartButtonEl.disabled = true;  // To prevent multiple clicks.\n",
              "      quickchartButtonEl.classList.add('colab-df-spinner');\n",
              "      try {\n",
              "        const charts = await google.colab.kernel.invokeFunction(\n",
              "            'suggestCharts', [key], {});\n",
              "      } catch (error) {\n",
              "        console.error('Error during call to suggestCharts:', error);\n",
              "      }\n",
              "      quickchartButtonEl.classList.remove('colab-df-spinner');\n",
              "      quickchartButtonEl.classList.add('colab-df-quickchart-complete');\n",
              "    }\n",
              "    (() => {\n",
              "      let quickchartButtonEl =\n",
              "        document.querySelector('#df-0ba48ae9-13a8-4ded-b57a-a70b9a7df9a0 button');\n",
              "      quickchartButtonEl.style.display =\n",
              "        google.colab.kernel.accessAllowed ? 'block' : 'none';\n",
              "    })();\n",
              "  </script>\n",
              "</div>\n",
              "\n",
              "    </div>\n",
              "  </div>\n"
            ],
            "application/vnd.google.colaboratory.intrinsic+json": {
              "type": "dataframe",
              "variable_name": "df"
            }
          },
          "metadata": {},
          "execution_count": 30
        }
      ],
      "source": [
        "# Lectura de la información de archivo .csv\n",
        "df = pd.read_csv('https://raw.githubusercontent.com/davidzarruk/MIAD_ML_NLP_2023/main/datasets/mashable.csv', index_col=0)\n",
        "df.head()"
      ]
    },
    {
      "cell_type": "code",
      "execution_count": 31,
      "metadata": {
        "id": "Nm8-lZYVQ6Az",
        "colab": {
          "base_uri": "https://localhost:8080/"
        },
        "outputId": "e1c65943-690e-4465-8979-e0b235404de9"
      },
      "outputs": [
        {
          "output_type": "execute_result",
          "data": {
            "text/plain": [
              "0.5"
            ]
          },
          "metadata": {},
          "execution_count": 31
        }
      ],
      "source": [
        "# Definición variable de interes y variables predictoras\n",
        "X = df.drop(['url', 'Popular'], axis=1)\n",
        "y = df['Popular']\n",
        "y.mean()"
      ]
    },
    {
      "cell_type": "code",
      "execution_count": 32,
      "metadata": {
        "id": "kLyy_6-_Q6Az"
      },
      "outputs": [],
      "source": [
        "# División de la muestra en set de entrenamiento y prueba\n",
        "from sklearn.model_selection import train_test_split\n",
        "X_train, X_test, y_train, y_test = train_test_split(X, y, random_state=1)"
      ]
    },
    {
      "cell_type": "markdown",
      "metadata": {
        "id": "v6BZBkTyQ6A0"
      },
      "source": [
        "### Punto 6 - Árbol de decisión y regresión logística\n",
        "En la celda 6 construya un árbol de decisión y una regresión logística. Para el árbol calibre al menos un parámetro y evalúe el desempeño de cada modelo usando las métricas de Accuracy y F1-Score."
      ]
    },
    {
      "cell_type": "code",
      "execution_count": 34,
      "metadata": {
        "id": "eLtN0hXiQ6A0",
        "colab": {
          "base_uri": "https://localhost:8080/"
        },
        "outputId": "25e751f5-f282-4ca9-e4ed-9590ecefbe03"
      },
      "outputs": [
        {
          "output_type": "stream",
          "name": "stdout",
          "text": [
            "Árbol de Decisión - Accuracy: 0.6413, F1-Score: 0.6073\n"
          ]
        }
      ],
      "source": [
        "# Celda 6\n",
        "import pandas as pd\n",
        "from sklearn.model_selection import train_test_split, GridSearchCV\n",
        "from sklearn.tree import DecisionTreeClassifier\n",
        "from sklearn.linear_model import LogisticRegression\n",
        "from sklearn.metrics import accuracy_score, f1_score\n",
        "\n",
        "# División de la muestra en set de entrenamiento y prueba\n",
        "X_train, X_test, y_train, y_test = train_test_split(X, y, random_state=1)\n",
        "\n",
        "# Construcción y calibración del árbol de decisión\n",
        "param_grid = {'max_depth': [3, 5, 7, 10]}  # Puedes ajustar y añadir más parámetros aquí\n",
        "tree = DecisionTreeClassifier(random_state=1)\n",
        "grid_search_tree = GridSearchCV(tree, param_grid, cv=5, scoring='accuracy')\n",
        "grid_search_tree.fit(X_train, y_train)\n",
        "\n",
        "# Evaluación del árbol de decisión\n",
        "tree_best = grid_search_tree.best_estimator_\n",
        "y_pred_tree = tree_best.predict(X_test)\n",
        "accuracy_tree = accuracy_score(y_test, y_pred_tree)\n",
        "f1_tree = f1_score(y_test, y_pred_tree)\n",
        "\n",
        "print(f\"Árbol de Decisión - Accuracy: {accuracy_tree:.4f}, F1-Score: {f1_tree:.4f}\")\n"
      ]
    },
    {
      "cell_type": "code",
      "source": [
        "# Entrenamiento del modelo de regresión logística\n",
        "log_reg = LogisticRegression(max_iter=1000, random_state=1)  # Aumentar max_iter si es necesario\n",
        "log_reg.fit(X_train, y_train)\n",
        "\n",
        "# Evaluación de la regresión logística\n",
        "y_pred_log_reg = log_reg.predict(X_test)\n",
        "accuracy_log_reg = accuracy_score(y_test, y_pred_log_reg)\n",
        "f1_log_reg = f1_score(y_test, y_pred_log_reg)\n",
        "\n",
        "print(f\"Regresión Logística - Accuracy: {accuracy_log_reg:.4f}, F1-Score: {f1_log_reg:.4f}\")\n"
      ],
      "metadata": {
        "colab": {
          "base_uri": "https://localhost:8080/"
        },
        "id": "8_Gk-cYGPPWF",
        "outputId": "59f00673-b935-49cc-f369-3d1a31371351"
      },
      "execution_count": 35,
      "outputs": [
        {
          "output_type": "stream",
          "name": "stdout",
          "text": [
            "Regresión Logística - Accuracy: 0.6160, F1-Score: 0.6071\n"
          ]
        }
      ]
    },
    {
      "cell_type": "markdown",
      "source": [
        "**Interpretación de los Resultados**\n",
        "*   Accuracy (Exactitud): Indica la proporción de predicciones correctas (tanto positivas como negativas) respecto al total de casos. Un valor más alto es mejor. El árbol de decisión supera ligeramente a la regresión logística en esta métrica, lo que sugiere que, en general, es mejor para clasificar correctamente los artículos como populares o no populares.\n",
        "\n",
        "*   F1-Score: Es una medida que combina la precisión y la sensibilidad (recall) en un solo número, dando un balance entre ambas. Es especialmente útil en situaciones donde hay un desequilibrio de clases o cuando uno está más interesado en el rendimiento de una clase particular. Los dos modelos tienen F1-Scores muy cercanos, lo que indica que ambos modelos tienen un rendimiento similar en cuanto a balance entre la precisión y la sensibilidad para la clase de interés (artículos populares).\n",
        "\n",
        "**Comparación y Consideraciones**\n",
        "*   Aunque el árbol de decisión tiene un mejor Accuracy, la diferencia en el F1-Score entre ambos modelos es mínima. Esto sugiere que, mientras el árbol de decisión puede ser ligeramente mejor para predecir correctamente ambos casos (populares y no populares), ambos modelos tienen un rendimiento similar cuando se trata de equilibrar precisión y sensibilidad.\n",
        "\n",
        "*   La elección entre usar un árbol de decisión o una regresión logística podría basarse en estos resultados o podría considerar otros factores, como la interpretabilidad del modelo, el tiempo de entrenamiento, la capacidad de manejar relaciones no lineales (donde los árboles de decisión pueden tener una ventaja) o la facilidad de implementación y despliegue.\n",
        "\n",
        "*   Potencial para Mejora: Estos resultados también sugieren que hay espacio para mejorar el rendimiento de ambos modelos. La calibración de parámetros adicionales, la ingeniería de características (como la creación de nuevas variables predictoras o la transformación de las existentes), o la exploración de otros algoritmos de clasificación podrían ofrecer mejoras en el rendimiento.\n",
        "\n",
        "*   Métodos de Ensamblaje: Dado que estás interesado en los métodos de ensamblaje, podría ser valioso explorar cómo técnicas como Bagging, Random Forests, o Boosting pueden mejorar el rendimiento sobre estos modelos base. Los métodos de ensamblaje a menudo superan a los modelos individuales al reducir la varianza, el sesgo, o ambos."
      ],
      "metadata": {
        "id": "E3v5XvfaPuTl"
      }
    },
    {
      "cell_type": "markdown",
      "metadata": {
        "id": "2Sg44BBwQ6A0"
      },
      "source": [
        "### Punto 7 - Votación Mayoritaria\n",
        "En la celda 7 elabore un esamble con la metodología de **Votación mayoritaria** compuesto por 300 muestras bagged donde:\n",
        "\n",
        "-las primeras 100 muestras vienen de árboles de decisión donde max_depth tome un valor de su elección\\\n",
        "-las segundas 100 muestras vienen de árboles de decisión donde min_samples_leaf tome un valor de su elección\\\n",
        "-las últimas 100 muestras vienen de regresiones logísticas\n",
        "\n",
        "Evalúe cada uno de los tres modelos de manera independiente utilizando las métricas de Accuracy y F1-Score, luego evalúe el ensamble de modelos y compare los resultados.\n",
        "\n",
        "Nota:\n",
        "\n",
        "Para este ensamble de 300 modelos, deben hacer votación mayoritaria. Esto lo pueden hacer de distintas maneras. La más \"fácil\" es haciendo la votación \"manualmente\", como se hace a partir del minuto 5:45 del video de Ejemplo práctico de emsablajes en Coursera. Digo que es la más fácil porque si hacen la votación mayoritaria sobre las 300 predicciones van a obtener lo que se espera.\n",
        "\n",
        "Otra opción es: para cada uno de los 3 tipos de modelos, entrenar un ensamble de 100 modelos cada uno. Predecir para cada uno de esos tres ensambles y luego predecir como un ensamble de los 3 ensambles. La cuestión es que la votación mayoritaria al usar los 3 ensambles no necesariamente va a generar el mismo resultado que si hacen la votación mayoritaria directamente sobre los 300 modelos. Entonces, para los que quieran hacer esto, deben hacer ese último cálculo con cuidado.\n",
        "\n",
        "Para los que quieran hacerlo como ensamble de ensambles, digo que se debe hacer el ensamble final con cuidado por lo siguiente. Supongamos que:\n",
        "\n",
        "* para los 100 árboles del primer tipo, la votación mayoritaria es: 55% de los modelos predicen que la clase de una observación es \"1\"\n",
        "* para los 100 árboles del segundo tipo, la votación mayoritaria es: 55% de los modelos predicen que la clase de una observación es \"1\"\n",
        "* para las 100 regresiones logísticas, la votación mayoritaria es: 10% de los modelos predicen que la clase de una observación es \"1\"\n",
        "\n",
        "Si se hace la votación mayoritaria de los 300 modelos, la predicción de esa observación debería ser: (100*55%+100*55%+100*10%)/300 = 40% de los modelos votan porque la predicción debería ser \"1\". Es decir, la predicción del ensamble es \"0\" (dado que menos del 50% de modelos predijo un 1).\n",
        "\n",
        "Sin embargo, si miramos cada ensamble por separado, el primer ensamble predice \"1\", el segundo ensamble predice \"1\" y el último ensamble predice \"0\". Si hago votación mayoritaria sobre esto, la predicción va a ser \"1\", lo cual es distinto a si se hace la votación mayoritaria sobre los 300 modelos."
      ]
    },
    {
      "cell_type": "code",
      "execution_count": 36,
      "metadata": {
        "id": "bb8zgj0vQ6A1"
      },
      "outputs": [],
      "source": [
        "# Celda 7\n",
        "from sklearn.tree import DecisionTreeClassifier\n",
        "from sklearn.linear_model import LogisticRegression\n",
        "from sklearn.ensemble import BaggingClassifier\n",
        "\n",
        "def train_and_predict_with_bagging(X_train, y_train, X_test, n_estimators=100, model_type='tree', **kwargs):\n",
        "    if model_type == 'tree':\n",
        "        base_estimator = DecisionTreeClassifier(**kwargs)\n",
        "    elif model_type == 'logistic':\n",
        "        base_estimator = LogisticRegression(max_iter=1000, **kwargs)\n",
        "    else:\n",
        "        raise ValueError(\"model_type debe ser 'tree' o 'logistic'.\")\n",
        "\n",
        "    # Crear el ensamble de Bagging\n",
        "    bagging = BaggingClassifier(base_estimator, n_estimators=n_estimators, n_jobs=-1, random_state=1)\n",
        "    bagging.fit(X_train, y_train)\n",
        "\n",
        "    # Predicciones\n",
        "    y_pred = bagging.predict(X_test)\n",
        "\n",
        "    return y_pred\n",
        "\n",
        "# Parámetros para árboles de decisión\n",
        "tree_params1 = {'max_depth': 10}\n",
        "tree_params2 = {'min_samples_leaf': 5}\n",
        "\n",
        "# Entrenamiento y predicciones\n",
        "y_pred_tree1 = train_and_predict_with_bagging(X_train, y_train, X_test, model_type='tree', **tree_params1)\n",
        "y_pred_tree2 = train_and_predict_with_bagging(X_train, y_train, X_test, model_type='tree', **tree_params2)\n",
        "y_pred_logistic = train_and_predict_with_bagging(X_train, y_train, X_test, model_type='logistic')"
      ]
    },
    {
      "cell_type": "code",
      "source": [
        "# Combinar las predicciones de los 300 modelos\n",
        "combined_predictions = np.vstack((y_pred_tree1, y_pred_tree2, y_pred_logistic))\n",
        "\n",
        "# Realizar votación mayoritaria\n",
        "y_pred_ensemble = np.mean(combined_predictions, axis=0) > 0.5"
      ],
      "metadata": {
        "id": "Hy-hKyuOQPVP"
      },
      "execution_count": 37,
      "outputs": []
    },
    {
      "cell_type": "code",
      "source": [
        "from sklearn.metrics import accuracy_score, f1_score\n",
        "\n",
        "# Función para evaluar las predicciones\n",
        "def evaluate_predictions(y_true, y_pred):\n",
        "    accuracy = accuracy_score(y_true, y_pred)\n",
        "    f1 = f1_score(y_true, y_pred)\n",
        "    return accuracy, f1\n",
        "\n",
        "# Evaluación de los modelos individuales y el ensamble\n",
        "accuracy_tree1, f1_tree1 = evaluate_predictions(y_test, y_pred_tree1)\n",
        "accuracy_tree2, f1_tree2 = evaluate_predictions(y_test, y_pred_tree2)\n",
        "accuracy_logistic, f1_logistic = evaluate_predictions(y_test, y_pred_logistic)\n",
        "accuracy_ensemble, f1_ensemble = evaluate_predictions(y_test, y_pred_ensemble)\n",
        "\n",
        "print(f\"Árbol con max_depth - Accuracy: {accuracy_tree1}, F1-Score: {f1_tree1}\")\n",
        "print(f\"Árbol con min_samples_leaf - Accuracy: {accuracy_tree2}, F1-Score: {f1_tree2}\")\n",
        "print(f\"Regresión Logística - Accuracy: {accuracy_logistic}, F1-Score: {f1_logistic}\")\n",
        "print(f\"Ensamble - Accuracy: {accuracy_ensemble}, F1-Score: {f1_ensemble}\")\n"
      ],
      "metadata": {
        "colab": {
          "base_uri": "https://localhost:8080/"
        },
        "id": "pYbvu50qQLNn",
        "outputId": "206256c8-d54e-4d3e-ccea-876944d68c35"
      },
      "execution_count": 38,
      "outputs": [
        {
          "output_type": "stream",
          "name": "stdout",
          "text": [
            "Árbol con max_depth - Accuracy: 0.6473333333333333, F1-Score: 0.6499007279947056\n",
            "Árbol con min_samples_leaf - Accuracy: 0.6446666666666667, F1-Score: 0.6458471760797342\n",
            "Regresión Logística - Accuracy: 0.6166666666666667, F1-Score: 0.6042670337233311\n",
            "Ensamble - Accuracy: 0.644, F1-Score: 0.644474034620506\n"
          ]
        }
      ]
    },
    {
      "cell_type": "markdown",
      "metadata": {
        "id": "qz3VErHMQ6A1"
      },
      "source": [
        "### Punto 8 - Votación Ponderada\n",
        "En la celda 8 elabore un ensamble con la metodología de **Votación ponderada** compuesto por 300 muestras bagged para los mismos tres escenarios del punto 7. Evalúe los modelos utilizando las métricas de Accuracy y F1-Score"
      ]
    },
    {
      "cell_type": "code",
      "execution_count": 39,
      "metadata": {
        "id": "jaNnikWeQ6A2"
      },
      "outputs": [],
      "source": [
        "# Celda 8\n",
        "def train_and_predict_prob_with_bagging(X_train, y_train, X_test, n_estimators=100, model_type='tree', **kwargs):\n",
        "    if model_type == 'tree':\n",
        "        base_estimator = DecisionTreeClassifier(**kwargs)\n",
        "    elif model_type == 'logistic':\n",
        "        base_estimator = LogisticRegression(max_iter=1000, **kwargs)\n",
        "    else:\n",
        "        raise ValueError(\"model_type debe ser 'tree' o 'logistic'.\")\n",
        "\n",
        "    bagging = BaggingClassifier(base_estimator, n_estimators=n_estimators, n_jobs=-1, random_state=1)\n",
        "    bagging.fit(X_train, y_train)\n",
        "\n",
        "    # Predicción de probabilidades\n",
        "    y_prob = bagging.predict_proba(X_test)[:, 1]  # Nos quedamos con las probabilidades de la clase positiva\n",
        "\n",
        "    return y_prob\n"
      ]
    },
    {
      "cell_type": "code",
      "source": [
        "y_prob_tree1 = train_and_predict_prob_with_bagging(X_train, y_train, X_test, model_type='tree', **tree_params1)\n",
        "y_prob_tree2 = train_and_predict_prob_with_bagging(X_train, y_train, X_test, model_type='tree', **tree_params2)\n",
        "y_prob_logistic = train_and_predict_prob_with_bagging(X_train, y_train, X_test, model_type='logistic')\n"
      ],
      "metadata": {
        "id": "nJ7VR52mQv25"
      },
      "execution_count": 40,
      "outputs": []
    },
    {
      "cell_type": "code",
      "source": [
        "combined_probs = np.mean(np.array([y_prob_tree1, y_prob_tree2, y_prob_logistic]), axis=0)\n",
        "y_pred_ensemble_weighted = (combined_probs > 0.5).astype(int)  # Umbral de clasificación"
      ],
      "metadata": {
        "id": "eDGsWaC0QyW9"
      },
      "execution_count": 41,
      "outputs": []
    },
    {
      "cell_type": "code",
      "source": [
        "# Conversión de probabilidades a predicciones binarias para la evaluación individual\n",
        "y_pred_tree1_weighted = (y_prob_tree1 > 0.5).astype(int)\n",
        "y_pred_tree2_weighted = (y_prob_tree2 > 0.5).astype(int)\n",
        "y_pred_logistic_weighted = (y_prob_logistic > 0.5).astype(int)\n",
        "\n",
        "# Evaluación de los modelos individuales y el ensamble\n",
        "accuracy_tree1_weighted, f1_tree1_weighted = evaluate_predictions(y_test, y_pred_tree1_weighted)\n",
        "accuracy_tree2_weighted, f1_tree2_weighted = evaluate_predictions(y_test, y_pred_tree2_weighted)\n",
        "accuracy_logistic_weighted, f1_logistic_weighted = evaluate_predictions(y_test, y_pred_logistic_weighted)\n",
        "accuracy_ensemble_weighted, f1_ensemble_weighted = evaluate_predictions(y_test, y_pred_ensemble_weighted)\n",
        "\n",
        "print(f\"Árbol con max_depth - Accuracy: {accuracy_tree1_weighted}, F1-Score: {f1_tree1_weighted}\")\n",
        "print(f\"Árbol con min_samples_leaf - Accuracy: {accuracy_tree2_weighted}, F1-Score: {f1_tree2_weighted}\")\n",
        "print(f\"Regresión Logística - Accuracy: {accuracy_logistic_weighted}, F1-Score: {f1_logistic_weighted}\")\n",
        "print(f\"Ensamble Ponderado - Accuracy: {accuracy_ensemble_weighted}, F1-Score: {f1_ensemble_weighted}\")"
      ],
      "metadata": {
        "colab": {
          "base_uri": "https://localhost:8080/"
        },
        "id": "OePu7lm8Q0RB",
        "outputId": "7aaf2f7d-d17f-499f-e5bc-ea5e3471013e"
      },
      "execution_count": 42,
      "outputs": [
        {
          "output_type": "stream",
          "name": "stdout",
          "text": [
            "Árbol con max_depth - Accuracy: 0.6473333333333333, F1-Score: 0.6499007279947056\n",
            "Árbol con min_samples_leaf - Accuracy: 0.6446666666666667, F1-Score: 0.6458471760797342\n",
            "Regresión Logística - Accuracy: 0.6166666666666667, F1-Score: 0.6042670337233311\n",
            "Ensamble Ponderado - Accuracy: 0.6506666666666666, F1-Score: 0.6525198938992044\n"
          ]
        }
      ]
    },
    {
      "cell_type": "markdown",
      "metadata": {
        "id": "LlLvMaipQ6A2"
      },
      "source": [
        "### Punto 9 - Comparación y análisis de resultados\n",
        "En la celda 9 comente sobre los resultados obtenidos con las metodologías usadas en los puntos 7 y 8, compare los resultados y enuncie posibles ventajas o desventajas de cada una de ellas."
      ]
    },
    {
      "cell_type": "markdown",
      "source": [
        "**Análisis de Resultados del Punto 7 (Votación Mayoritaria)**\n",
        "\n",
        "Los modelos individuales muestran un desempeño variado, con el árbol de decisión calibrado por max_depth logrando el mejor rendimiento en ambos, Accuracy y F1-Score. El ensamble, usando votación mayoritaria, no mejora significativamente sobre el mejor modelo individual y, de hecho, tiene un rendimiento ligeramente inferior al mejor árbol de decisión en términos de Accuracy y F1-Score. Esto puede ser un indicativo de que el ensamble no está capitalizando completamente las fortalezas individuales de cada modelo o que la presencia de modelos con menor rendimiento está diluyendo la efectividad del ensamble.\n",
        "\n",
        "**Análisis de Resultados del Punto 8 (Votación Ponderada)**\n",
        "\n",
        "Con la votación ponderada, el ensamble logra superar no solo al rendimiento de los modelos individuales sino también al ensamble basado en votación mayoritaria. Esto indica que ponderar las predicciones basadas en algún criterio (en este caso, tratándolos igualmente dentro de los tipos de modelos) puede proporcionar un beneficio al considerar el desempeño relativo de cada modelo. La mejora en el Accuracy y F1-Score sugiere que la votación ponderada podría estar aprovechando más efectivamente las predicciones de los modelos individuales.\n",
        "\n",
        "**Comparación y Ventajas/Desventajas**\n",
        "* Votación Mayoritaria: La principal ventaja es su simplicidad y que trata a todos los modelos por igual, lo cual es justo si todos los modelos son igualmente válidos o si no hay una base clara para ponderar un modelo sobre otro. Sin embargo, esta igualdad también actúa como una desventaja si hay diferencias significativas en el rendimiento de los modelos, ya que no se pueden explotar estas diferencias para mejorar el rendimiento del ensamble.\n",
        "\n",
        "* Votación Ponderada: Su ventaja radica en la capacidad de ajustar la influencia de cada modelo en la decisión final, lo que permite mejorar el rendimiento del ensamble al enfocarse más en los modelos que tienen un mejor desempeño. La principal desventaja podría ser su complejidad adicional y el riesgo de sobreajuste si los pesos no se asignan cuidadosamente.\n",
        "\n",
        "**Conclusión**\n",
        "La mejora en el rendimiento observada con la votación ponderada en este caso específico sugiere que, para este conjunto de datos y modelos, dar diferentes pesos a las predicciones de los modelos puede ser una estrategia efectiva. Sin embargo, la elección entre votación mayoritaria y votación ponderada debe basarse en una evaluación detallada que considere la naturaleza de los datos, el desempeño relativo de los modelos individuales, y la capacidad computacional disponible, entre otros factores.\n"
      ],
      "metadata": {
        "id": "G3c1WtU8SIcg"
      }
    },
    {
      "cell_type": "code",
      "execution_count": null,
      "metadata": {
        "id": "xOw0SI4PQ6A3"
      },
      "outputs": [],
      "source": [
        "# Celda 9\n"
      ]
    }
  ],
  "metadata": {
    "kernelspec": {
      "display_name": "Python 3 (ipykernel)",
      "language": "python",
      "name": "python3"
    },
    "language_info": {
      "codemirror_mode": {
        "name": "ipython",
        "version": 3
      },
      "file_extension": ".py",
      "mimetype": "text/x-python",
      "name": "python",
      "nbconvert_exporter": "python",
      "pygments_lexer": "ipython3",
      "version": "3.9.12"
    },
    "colab": {
      "provenance": []
    }
  },
  "nbformat": 4,
  "nbformat_minor": 0
}